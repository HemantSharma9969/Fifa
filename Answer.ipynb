{
 "cells": [
  {
   "cell_type": "markdown",
   "metadata": {},
   "source": [
    "# Solution"
   ]
  },
  {
   "cell_type": "markdown",
   "metadata": {},
   "source": [
    "# 1.\tImport the necessary libraries and read the data."
   ]
  },
  {
   "cell_type": "code",
   "execution_count": 485,
   "metadata": {},
   "outputs": [],
   "source": [
    "import pandas as pd\n",
    "import numpy as np\n",
    "import matplotlib.pyplot as plt\n",
    "import seaborn as sns"
   ]
  },
  {
   "cell_type": "code",
   "execution_count": 486,
   "metadata": {},
   "outputs": [],
   "source": [
    "data = pd.read_csv(\"C:\\\\Users\\\\Hemant\\\\Desktop\\\\Mini Project\\\\EDA_mini_project\\\\fifa.csv\")"
   ]
  },
  {
   "cell_type": "code",
   "execution_count": 487,
   "metadata": {},
   "outputs": [
    {
     "data": {
      "text/html": [
       "<div>\n",
       "<style scoped>\n",
       "    .dataframe tbody tr th:only-of-type {\n",
       "        vertical-align: middle;\n",
       "    }\n",
       "\n",
       "    .dataframe tbody tr th {\n",
       "        vertical-align: top;\n",
       "    }\n",
       "\n",
       "    .dataframe thead th {\n",
       "        text-align: right;\n",
       "    }\n",
       "</style>\n",
       "<table border=\"1\" class=\"dataframe\">\n",
       "  <thead>\n",
       "    <tr style=\"text-align: right;\">\n",
       "      <th></th>\n",
       "      <th>ID</th>\n",
       "      <th>Name</th>\n",
       "      <th>Age</th>\n",
       "      <th>Photo</th>\n",
       "      <th>Nationality</th>\n",
       "      <th>Flag</th>\n",
       "      <th>Overall</th>\n",
       "      <th>Potential</th>\n",
       "      <th>Club</th>\n",
       "      <th>Club Logo</th>\n",
       "      <th>...</th>\n",
       "      <th>Composure</th>\n",
       "      <th>Marking</th>\n",
       "      <th>StandingTackle</th>\n",
       "      <th>SlidingTackle</th>\n",
       "      <th>GKDiving</th>\n",
       "      <th>GKHandling</th>\n",
       "      <th>GKKicking</th>\n",
       "      <th>GKPositioning</th>\n",
       "      <th>GKReflexes</th>\n",
       "      <th>Release Clause</th>\n",
       "    </tr>\n",
       "  </thead>\n",
       "  <tbody>\n",
       "    <tr>\n",
       "      <td>0</td>\n",
       "      <td>158023</td>\n",
       "      <td>L. Messi</td>\n",
       "      <td>31</td>\n",
       "      <td>https://cdn.sofifa.org/players/4/19/158023.png</td>\n",
       "      <td>Argentina</td>\n",
       "      <td>https://cdn.sofifa.org/flags/52.png</td>\n",
       "      <td>94</td>\n",
       "      <td>94</td>\n",
       "      <td>FC Barcelona</td>\n",
       "      <td>https://cdn.sofifa.org/teams/2/light/241.png</td>\n",
       "      <td>...</td>\n",
       "      <td>96.0</td>\n",
       "      <td>33.0</td>\n",
       "      <td>28.0</td>\n",
       "      <td>26.0</td>\n",
       "      <td>6.0</td>\n",
       "      <td>11.0</td>\n",
       "      <td>15.0</td>\n",
       "      <td>14.0</td>\n",
       "      <td>8.0</td>\n",
       "      <td>€226.5M</td>\n",
       "    </tr>\n",
       "    <tr>\n",
       "      <td>1</td>\n",
       "      <td>20801</td>\n",
       "      <td>Cristiano Ronaldo</td>\n",
       "      <td>33</td>\n",
       "      <td>https://cdn.sofifa.org/players/4/19/20801.png</td>\n",
       "      <td>Portugal</td>\n",
       "      <td>https://cdn.sofifa.org/flags/38.png</td>\n",
       "      <td>94</td>\n",
       "      <td>94</td>\n",
       "      <td>Juventus</td>\n",
       "      <td>https://cdn.sofifa.org/teams/2/light/45.png</td>\n",
       "      <td>...</td>\n",
       "      <td>95.0</td>\n",
       "      <td>28.0</td>\n",
       "      <td>31.0</td>\n",
       "      <td>23.0</td>\n",
       "      <td>7.0</td>\n",
       "      <td>11.0</td>\n",
       "      <td>15.0</td>\n",
       "      <td>14.0</td>\n",
       "      <td>11.0</td>\n",
       "      <td>€127.1M</td>\n",
       "    </tr>\n",
       "    <tr>\n",
       "      <td>2</td>\n",
       "      <td>190871</td>\n",
       "      <td>Neymar Jr</td>\n",
       "      <td>26</td>\n",
       "      <td>https://cdn.sofifa.org/players/4/19/190871.png</td>\n",
       "      <td>Brazil</td>\n",
       "      <td>https://cdn.sofifa.org/flags/54.png</td>\n",
       "      <td>92</td>\n",
       "      <td>93</td>\n",
       "      <td>Paris Saint-Germain</td>\n",
       "      <td>https://cdn.sofifa.org/teams/2/light/73.png</td>\n",
       "      <td>...</td>\n",
       "      <td>94.0</td>\n",
       "      <td>27.0</td>\n",
       "      <td>24.0</td>\n",
       "      <td>33.0</td>\n",
       "      <td>9.0</td>\n",
       "      <td>9.0</td>\n",
       "      <td>15.0</td>\n",
       "      <td>15.0</td>\n",
       "      <td>11.0</td>\n",
       "      <td>€228.1M</td>\n",
       "    </tr>\n",
       "    <tr>\n",
       "      <td>3</td>\n",
       "      <td>193080</td>\n",
       "      <td>De Gea</td>\n",
       "      <td>27</td>\n",
       "      <td>https://cdn.sofifa.org/players/4/19/193080.png</td>\n",
       "      <td>Spain</td>\n",
       "      <td>https://cdn.sofifa.org/flags/45.png</td>\n",
       "      <td>91</td>\n",
       "      <td>93</td>\n",
       "      <td>Manchester United</td>\n",
       "      <td>https://cdn.sofifa.org/teams/2/light/11.png</td>\n",
       "      <td>...</td>\n",
       "      <td>68.0</td>\n",
       "      <td>15.0</td>\n",
       "      <td>21.0</td>\n",
       "      <td>13.0</td>\n",
       "      <td>90.0</td>\n",
       "      <td>85.0</td>\n",
       "      <td>87.0</td>\n",
       "      <td>88.0</td>\n",
       "      <td>94.0</td>\n",
       "      <td>€138.6M</td>\n",
       "    </tr>\n",
       "    <tr>\n",
       "      <td>4</td>\n",
       "      <td>192985</td>\n",
       "      <td>K. De Bruyne</td>\n",
       "      <td>27</td>\n",
       "      <td>https://cdn.sofifa.org/players/4/19/192985.png</td>\n",
       "      <td>Belgium</td>\n",
       "      <td>https://cdn.sofifa.org/flags/7.png</td>\n",
       "      <td>91</td>\n",
       "      <td>92</td>\n",
       "      <td>Manchester City</td>\n",
       "      <td>https://cdn.sofifa.org/teams/2/light/10.png</td>\n",
       "      <td>...</td>\n",
       "      <td>88.0</td>\n",
       "      <td>68.0</td>\n",
       "      <td>58.0</td>\n",
       "      <td>51.0</td>\n",
       "      <td>15.0</td>\n",
       "      <td>13.0</td>\n",
       "      <td>5.0</td>\n",
       "      <td>10.0</td>\n",
       "      <td>13.0</td>\n",
       "      <td>€196.4M</td>\n",
       "    </tr>\n",
       "  </tbody>\n",
       "</table>\n",
       "<p>5 rows × 60 columns</p>\n",
       "</div>"
      ],
      "text/plain": [
       "       ID               Name  Age  \\\n",
       "0  158023           L. Messi   31   \n",
       "1   20801  Cristiano Ronaldo   33   \n",
       "2  190871          Neymar Jr   26   \n",
       "3  193080             De Gea   27   \n",
       "4  192985       K. De Bruyne   27   \n",
       "\n",
       "                                            Photo Nationality  \\\n",
       "0  https://cdn.sofifa.org/players/4/19/158023.png   Argentina   \n",
       "1   https://cdn.sofifa.org/players/4/19/20801.png    Portugal   \n",
       "2  https://cdn.sofifa.org/players/4/19/190871.png      Brazil   \n",
       "3  https://cdn.sofifa.org/players/4/19/193080.png       Spain   \n",
       "4  https://cdn.sofifa.org/players/4/19/192985.png     Belgium   \n",
       "\n",
       "                                  Flag  Overall  Potential  \\\n",
       "0  https://cdn.sofifa.org/flags/52.png       94         94   \n",
       "1  https://cdn.sofifa.org/flags/38.png       94         94   \n",
       "2  https://cdn.sofifa.org/flags/54.png       92         93   \n",
       "3  https://cdn.sofifa.org/flags/45.png       91         93   \n",
       "4   https://cdn.sofifa.org/flags/7.png       91         92   \n",
       "\n",
       "                  Club                                     Club Logo  ...  \\\n",
       "0         FC Barcelona  https://cdn.sofifa.org/teams/2/light/241.png  ...   \n",
       "1             Juventus   https://cdn.sofifa.org/teams/2/light/45.png  ...   \n",
       "2  Paris Saint-Germain   https://cdn.sofifa.org/teams/2/light/73.png  ...   \n",
       "3    Manchester United   https://cdn.sofifa.org/teams/2/light/11.png  ...   \n",
       "4      Manchester City   https://cdn.sofifa.org/teams/2/light/10.png  ...   \n",
       "\n",
       "  Composure Marking StandingTackle  SlidingTackle  GKDiving  GKHandling  \\\n",
       "0      96.0    33.0           28.0           26.0       6.0        11.0   \n",
       "1      95.0    28.0           31.0           23.0       7.0        11.0   \n",
       "2      94.0    27.0           24.0           33.0       9.0         9.0   \n",
       "3      68.0    15.0           21.0           13.0      90.0        85.0   \n",
       "4      88.0    68.0           58.0           51.0      15.0        13.0   \n",
       "\n",
       "  GKKicking GKPositioning GKReflexes  Release Clause  \n",
       "0      15.0          14.0        8.0         €226.5M  \n",
       "1      15.0          14.0       11.0         €127.1M  \n",
       "2      15.0          15.0       11.0         €228.1M  \n",
       "3      87.0          88.0       94.0         €138.6M  \n",
       "4       5.0          10.0       13.0         €196.4M  \n",
       "\n",
       "[5 rows x 60 columns]"
      ]
     },
     "execution_count": 487,
     "metadata": {},
     "output_type": "execute_result"
    }
   ],
   "source": [
    "data.head()"
   ]
  },
  {
   "cell_type": "code",
   "execution_count": 488,
   "metadata": {},
   "outputs": [
    {
     "name": "stdout",
     "output_type": "stream",
     "text": [
      "<class 'pandas.core.frame.DataFrame'>\n",
      "RangeIndex: 18207 entries, 0 to 18206\n",
      "Data columns (total 60 columns):\n",
      "ID                          18207 non-null int64\n",
      "Name                        18207 non-null object\n",
      "Age                         18207 non-null int64\n",
      "Photo                       18207 non-null object\n",
      "Nationality                 18207 non-null object\n",
      "Flag                        18207 non-null object\n",
      "Overall                     18207 non-null int64\n",
      "Potential                   18207 non-null int64\n",
      "Club                        17966 non-null object\n",
      "Club Logo                   18207 non-null object\n",
      "Value                       18207 non-null object\n",
      "Wage                        18207 non-null object\n",
      "Preferred Foot              18159 non-null object\n",
      "International Reputation    18159 non-null float64\n",
      "Weak Foot                   18159 non-null float64\n",
      "Skill Moves                 18159 non-null float64\n",
      "Work Rate                   18159 non-null object\n",
      "Body Type                   18159 non-null object\n",
      "Position                    18147 non-null object\n",
      "Jersey Number               18147 non-null float64\n",
      "Joined                      16654 non-null object\n",
      "Loaned From                 1264 non-null object\n",
      "Contract Valid Until        17918 non-null object\n",
      "Height                      18159 non-null object\n",
      "Weight                      18159 non-null object\n",
      "Crossing                    18159 non-null float64\n",
      "Finishing                   18159 non-null float64\n",
      "HeadingAccuracy             18159 non-null float64\n",
      "ShortPassing                18159 non-null float64\n",
      "Volleys                     18159 non-null float64\n",
      "Dribbling                   18159 non-null float64\n",
      "Curve                       18159 non-null float64\n",
      "FKAccuracy                  18159 non-null float64\n",
      "LongPassing                 18159 non-null float64\n",
      "BallControl                 18159 non-null float64\n",
      "Acceleration                18159 non-null float64\n",
      "SprintSpeed                 18159 non-null float64\n",
      "Agility                     18159 non-null float64\n",
      "Reactions                   18159 non-null float64\n",
      "Balance                     18159 non-null float64\n",
      "ShotPower                   18159 non-null float64\n",
      "Jumping                     18159 non-null float64\n",
      "Stamina                     18159 non-null float64\n",
      "Strength                    18159 non-null float64\n",
      "LongShots                   18159 non-null float64\n",
      "Aggression                  18159 non-null float64\n",
      "Interceptions               18159 non-null float64\n",
      "Positioning                 18159 non-null float64\n",
      "Vision                      18159 non-null float64\n",
      "Penalties                   18159 non-null float64\n",
      "Composure                   18159 non-null float64\n",
      "Marking                     18159 non-null float64\n",
      "StandingTackle              18159 non-null float64\n",
      "SlidingTackle               18159 non-null float64\n",
      "GKDiving                    18159 non-null float64\n",
      "GKHandling                  18159 non-null float64\n",
      "GKKicking                   18159 non-null float64\n",
      "GKPositioning               18159 non-null float64\n",
      "GKReflexes                  18159 non-null float64\n",
      "Release Clause              16643 non-null object\n",
      "dtypes: float64(38), int64(4), object(18)\n",
      "memory usage: 8.3+ MB\n"
     ]
    }
   ],
   "source": [
    "data.info()"
   ]
  },
  {
   "cell_type": "code",
   "execution_count": 489,
   "metadata": {},
   "outputs": [
    {
     "data": {
      "text/plain": [
       "(18207, 60)"
      ]
     },
     "execution_count": 489,
     "metadata": {},
     "output_type": "execute_result"
    }
   ],
   "source": [
    "data.shape"
   ]
  },
  {
   "cell_type": "code",
   "execution_count": 490,
   "metadata": {},
   "outputs": [
    {
     "data": {
      "text/plain": [
       "1092420"
      ]
     },
     "execution_count": 490,
     "metadata": {},
     "output_type": "execute_result"
    }
   ],
   "source": [
    "data.size"
   ]
  },
  {
   "cell_type": "code",
   "execution_count": 491,
   "metadata": {},
   "outputs": [],
   "source": [
    "drop_column = data.loc[:,['Flag','Photo','Club Logo','Jersey Number']]"
   ]
  },
  {
   "cell_type": "code",
   "execution_count": 492,
   "metadata": {},
   "outputs": [
    {
     "data": {
      "text/html": [
       "<div>\n",
       "<style scoped>\n",
       "    .dataframe tbody tr th:only-of-type {\n",
       "        vertical-align: middle;\n",
       "    }\n",
       "\n",
       "    .dataframe tbody tr th {\n",
       "        vertical-align: top;\n",
       "    }\n",
       "\n",
       "    .dataframe thead th {\n",
       "        text-align: right;\n",
       "    }\n",
       "</style>\n",
       "<table border=\"1\" class=\"dataframe\">\n",
       "  <thead>\n",
       "    <tr style=\"text-align: right;\">\n",
       "      <th></th>\n",
       "      <th>Flag</th>\n",
       "      <th>Photo</th>\n",
       "      <th>Club Logo</th>\n",
       "      <th>Jersey Number</th>\n",
       "    </tr>\n",
       "  </thead>\n",
       "  <tbody>\n",
       "    <tr>\n",
       "      <td>0</td>\n",
       "      <td>https://cdn.sofifa.org/flags/52.png</td>\n",
       "      <td>https://cdn.sofifa.org/players/4/19/158023.png</td>\n",
       "      <td>https://cdn.sofifa.org/teams/2/light/241.png</td>\n",
       "      <td>10.0</td>\n",
       "    </tr>\n",
       "    <tr>\n",
       "      <td>1</td>\n",
       "      <td>https://cdn.sofifa.org/flags/38.png</td>\n",
       "      <td>https://cdn.sofifa.org/players/4/19/20801.png</td>\n",
       "      <td>https://cdn.sofifa.org/teams/2/light/45.png</td>\n",
       "      <td>7.0</td>\n",
       "    </tr>\n",
       "    <tr>\n",
       "      <td>2</td>\n",
       "      <td>https://cdn.sofifa.org/flags/54.png</td>\n",
       "      <td>https://cdn.sofifa.org/players/4/19/190871.png</td>\n",
       "      <td>https://cdn.sofifa.org/teams/2/light/73.png</td>\n",
       "      <td>10.0</td>\n",
       "    </tr>\n",
       "    <tr>\n",
       "      <td>3</td>\n",
       "      <td>https://cdn.sofifa.org/flags/45.png</td>\n",
       "      <td>https://cdn.sofifa.org/players/4/19/193080.png</td>\n",
       "      <td>https://cdn.sofifa.org/teams/2/light/11.png</td>\n",
       "      <td>1.0</td>\n",
       "    </tr>\n",
       "    <tr>\n",
       "      <td>4</td>\n",
       "      <td>https://cdn.sofifa.org/flags/7.png</td>\n",
       "      <td>https://cdn.sofifa.org/players/4/19/192985.png</td>\n",
       "      <td>https://cdn.sofifa.org/teams/2/light/10.png</td>\n",
       "      <td>7.0</td>\n",
       "    </tr>\n",
       "  </tbody>\n",
       "</table>\n",
       "</div>"
      ],
      "text/plain": [
       "                                  Flag  \\\n",
       "0  https://cdn.sofifa.org/flags/52.png   \n",
       "1  https://cdn.sofifa.org/flags/38.png   \n",
       "2  https://cdn.sofifa.org/flags/54.png   \n",
       "3  https://cdn.sofifa.org/flags/45.png   \n",
       "4   https://cdn.sofifa.org/flags/7.png   \n",
       "\n",
       "                                            Photo  \\\n",
       "0  https://cdn.sofifa.org/players/4/19/158023.png   \n",
       "1   https://cdn.sofifa.org/players/4/19/20801.png   \n",
       "2  https://cdn.sofifa.org/players/4/19/190871.png   \n",
       "3  https://cdn.sofifa.org/players/4/19/193080.png   \n",
       "4  https://cdn.sofifa.org/players/4/19/192985.png   \n",
       "\n",
       "                                      Club Logo  Jersey Number  \n",
       "0  https://cdn.sofifa.org/teams/2/light/241.png           10.0  \n",
       "1   https://cdn.sofifa.org/teams/2/light/45.png            7.0  \n",
       "2   https://cdn.sofifa.org/teams/2/light/73.png           10.0  \n",
       "3   https://cdn.sofifa.org/teams/2/light/11.png            1.0  \n",
       "4   https://cdn.sofifa.org/teams/2/light/10.png            7.0  "
      ]
     },
     "execution_count": 492,
     "metadata": {},
     "output_type": "execute_result"
    }
   ],
   "source": [
    "drop_column.head()"
   ]
  },
  {
   "cell_type": "markdown",
   "metadata": {},
   "source": [
    "# Dropping  unecessary columns"
   ]
  },
  {
   "cell_type": "code",
   "execution_count": 493,
   "metadata": {},
   "outputs": [],
   "source": [
    "data.drop(['Flag','Photo','Club Logo','Jersey Number'],axis =1,inplace = True)"
   ]
  },
  {
   "cell_type": "code",
   "execution_count": 494,
   "metadata": {},
   "outputs": [
    {
     "data": {
      "text/plain": [
       "(18207, 56)"
      ]
     },
     "execution_count": 494,
     "metadata": {},
     "output_type": "execute_result"
    }
   ],
   "source": [
    "data.shape"
   ]
  },
  {
   "cell_type": "markdown",
   "metadata": {},
   "source": [
    "#   3.\tThe following columns need to be converted for further analysis:"
   ]
  },
  {
   "cell_type": "code",
   "execution_count": 495,
   "metadata": {},
   "outputs": [
    {
     "data": {
      "text/plain": [
       "0        €110.5M\n",
       "1           €77M\n",
       "2        €118.5M\n",
       "3           €72M\n",
       "4          €102M\n",
       "          ...   \n",
       "18202       €60K\n",
       "18203       €60K\n",
       "18204       €60K\n",
       "18205       €60K\n",
       "18206       €60K\n",
       "Name: Value, Length: 18207, dtype: object"
      ]
     },
     "execution_count": 495,
     "metadata": {},
     "output_type": "execute_result"
    }
   ],
   "source": [
    "value =data['Value']\n",
    "value"
   ]
  },
  {
   "cell_type": "code",
   "execution_count": 496,
   "metadata": {},
   "outputs": [
    {
     "data": {
      "text/plain": [
       "0        110.5M\n",
       "1           77M\n",
       "2        118.5M\n",
       "3           72M\n",
       "4          102M\n",
       "          ...  \n",
       "18202       60K\n",
       "18203       60K\n",
       "18204       60K\n",
       "18205       60K\n",
       "18206       60K\n",
       "Name: Value, Length: 18207, dtype: object"
      ]
     },
     "execution_count": 496,
     "metadata": {},
     "output_type": "execute_result"
    }
   ],
   "source": [
    "value = value.str.replace('€','')\n",
    "value"
   ]
  },
  {
   "cell_type": "code",
   "execution_count": 497,
   "metadata": {},
   "outputs": [],
   "source": [
    "value=value.str.replace('M','0000000')"
   ]
  },
  {
   "cell_type": "code",
   "execution_count": 498,
   "metadata": {},
   "outputs": [],
   "source": [
    "value=value.str.replace('K','000')"
   ]
  },
  {
   "cell_type": "code",
   "execution_count": 499,
   "metadata": {},
   "outputs": [],
   "source": [
    "value=value.str.replace('.','')"
   ]
  },
  {
   "cell_type": "code",
   "execution_count": 500,
   "metadata": {},
   "outputs": [
    {
     "data": {
      "text/plain": [
       "0        11050000000\n",
       "1          770000000\n",
       "2        11850000000\n",
       "3          720000000\n",
       "4         1020000000\n",
       "            ...     \n",
       "18202          60000\n",
       "18203          60000\n",
       "18204          60000\n",
       "18205          60000\n",
       "18206          60000\n",
       "Name: Value, Length: 18207, dtype: object"
      ]
     },
     "execution_count": 500,
     "metadata": {},
     "output_type": "execute_result"
    }
   ],
   "source": [
    "value"
   ]
  },
  {
   "cell_type": "code",
   "execution_count": 501,
   "metadata": {},
   "outputs": [],
   "source": [
    "value=list(np.float_(value))"
   ]
  },
  {
   "cell_type": "code",
   "execution_count": 502,
   "metadata": {},
   "outputs": [
    {
     "data": {
      "text/plain": [
       "[11050000000.0,\n",
       " 770000000.0,\n",
       " 11850000000.0,\n",
       " 720000000.0,\n",
       " 1020000000.0,\n",
       " 930000000.0,\n",
       " 670000000.0,\n",
       " 800000000.0,\n",
       " 510000000.0,\n",
       " 680000000.0,\n",
       " 770000000.0,\n",
       " 7650000000.0,\n",
       " 440000000.0,\n",
       " 600000000.0,\n",
       " 630000000.0,\n",
       " 890000000.0,\n",
       " 8350000000.0,\n",
       " 780000000.0,\n",
       " 580000000.0,\n",
       " 5350000000.0,\n",
       " 5150000000.0,\n",
       " 600000000.0,\n",
       " 380000000.0,\n",
       " 6450000000.0,\n",
       " 270000000.0,\n",
       " 810000000.0,\n",
       " 6950000000.0,\n",
       " 5950000000.0,\n",
       " 6950000000.0,\n",
       " 620000000.0,\n",
       " 7350000000.0,\n",
       " 7350000000.0,\n",
       " 6950000000.0,\n",
       " 590000000.0,\n",
       " 460000000.0,\n",
       " 430000000.0,\n",
       " 600000000.0,\n",
       " 360000000.0,\n",
       " 570000000.0,\n",
       " 240000000.0,\n",
       " 300000000.0,\n",
       " 40000000.0,\n",
       " 570000000.0,\n",
       " 6450000000.0,\n",
       " 510000000.0,\n",
       " 640000000.0,\n",
       " 3050000000.0,\n",
       " 6250000000.0,\n",
       " 520000000.0,\n",
       " 380000000.0,\n",
       " 450000000.0,\n",
       " 340000000.0,\n",
       " 4650000000.0,\n",
       " 4650000000.0,\n",
       " 340000000.0,\n",
       " 610000000.0,\n",
       " 5950000000.0,\n",
       " 4150000000.0,\n",
       " 520000000.0,\n",
       " 4450000000.0,\n",
       " 5650000000.0,\n",
       " 530000000.0,\n",
       " 500000000.0,\n",
       " 550000000.0,\n",
       " 3650000000.0,\n",
       " 4650000000.0,\n",
       " 450000000.0,\n",
       " 4550000000.0,\n",
       " 4350000000.0,\n",
       " 350000000.0,\n",
       " 300000000.0,\n",
       " 390000000.0,\n",
       " 440000000.0,\n",
       " 300000000.0,\n",
       " 4350000000.0,\n",
       " 180000000.0,\n",
       " 2150000000.0,\n",
       " 4650000000.0,\n",
       " 5050000000.0,\n",
       " 540000000.0,\n",
       " 500000000.0,\n",
       " 3650000000.0,\n",
       " 4050000000.0,\n",
       " 5050000000.0,\n",
       " 4050000000.0,\n",
       " 380000000.0,\n",
       " 450000000.0,\n",
       " 450000000.0,\n",
       " 3750000000.0,\n",
       " 2850000000.0,\n",
       " 370000000.0,\n",
       " 370000000.0,\n",
       " 320000000.0,\n",
       " 3750000000.0,\n",
       " 390000000.0,\n",
       " 300000000.0,\n",
       " 260000000.0,\n",
       " 3750000000.0,\n",
       " 3050000000.0,\n",
       " 330000000.0,\n",
       " 3850000000.0,\n",
       " 3550000000.0,\n",
       " 90000000.0,\n",
       " 260000000.0,\n",
       " 1550000000.0,\n",
       " 370000000.0,\n",
       " 2150000000.0,\n",
       " 220000000.0,\n",
       " 90000000.0,\n",
       " 140000000.0,\n",
       " 340000000.0,\n",
       " 340000000.0,\n",
       " 320000000.0,\n",
       " 340000000.0,\n",
       " 4050000000.0,\n",
       " 3650000000.0,\n",
       " 4250000000.0,\n",
       " 4250000000.0,\n",
       " 340000000.0,\n",
       " 3550000000.0,\n",
       " 3150000000.0,\n",
       " 380000000.0,\n",
       " 390000000.0,\n",
       " 3150000000.0,\n",
       " 420000000.0,\n",
       " 370000000.0,\n",
       " 250000000.0,\n",
       " 3150000000.0,\n",
       " 2950000000.0,\n",
       " 2950000000.0,\n",
       " 300000000.0,\n",
       " 270000000.0,\n",
       " 240000000.0,\n",
       " 220000000.0,\n",
       " 310000000.0,\n",
       " 2450000000.0,\n",
       " 320000000.0,\n",
       " 2750000000.0,\n",
       " 2950000000.0,\n",
       " 250000000.0,\n",
       " 3050000000.0,\n",
       " 240000000.0,\n",
       " 290000000.0,\n",
       " 240000000.0,\n",
       " 2750000000.0,\n",
       " 1650000000.0,\n",
       " 230000000.0,\n",
       " 190000000.0,\n",
       " 250000000.0,\n",
       " 190000000.0,\n",
       " 180000000.0,\n",
       " 300000000.0,\n",
       " 420000000.0,\n",
       " 1550000000.0,\n",
       " 1550000000.0,\n",
       " 400000000.0,\n",
       " 410000000.0,\n",
       " 280000000.0,\n",
       " 2250000000.0,\n",
       " 2850000000.0,\n",
       " 3050000000.0,\n",
       " 340000000.0,\n",
       " 340000000.0,\n",
       " 3550000000.0,\n",
       " 340000000.0,\n",
       " 2950000000.0,\n",
       " 3650000000.0,\n",
       " 3450000000.0,\n",
       " 330000000.0,\n",
       " 340000000.0,\n",
       " 3050000000.0,\n",
       " 3250000000.0,\n",
       " 270000000.0,\n",
       " 330000000.0,\n",
       " 320000000.0,\n",
       " 200000000.0,\n",
       " 350000000.0,\n",
       " 2850000000.0,\n",
       " 300000000.0,\n",
       " 3450000000.0,\n",
       " 250000000.0,\n",
       " 260000000.0,\n",
       " 2850000000.0,\n",
       " 330000000.0,\n",
       " 3250000000.0,\n",
       " 3150000000.0,\n",
       " 310000000.0,\n",
       " 270000000.0,\n",
       " 2450000000.0,\n",
       " 240000000.0,\n",
       " 2650000000.0,\n",
       " 190000000.0,\n",
       " 2650000000.0,\n",
       " 3050000000.0,\n",
       " 2550000000.0,\n",
       " 2650000000.0,\n",
       " 210000000.0,\n",
       " 210000000.0,\n",
       " 210000000.0,\n",
       " 2550000000.0,\n",
       " 240000000.0,\n",
       " 130000000.0,\n",
       " 190000000.0,\n",
       " 210000000.0,\n",
       " 260000000.0,\n",
       " 3050000000.0,\n",
       " 2750000000.0,\n",
       " 190000000.0,\n",
       " 260000000.0,\n",
       " 1750000000.0,\n",
       " 200000000.0,\n",
       " 2450000000.0,\n",
       " 1550000000.0,\n",
       " 1650000000.0,\n",
       " 200000000.0,\n",
       " 200000000.0,\n",
       " 200000000.0,\n",
       " 1750000000.0,\n",
       " 130000000.0,\n",
       " 220000000.0,\n",
       " 240000000.0,\n",
       " 1150000000.0,\n",
       " 130000000.0,\n",
       " 80000000.0,\n",
       " 60000000.0,\n",
       " 1950000000.0,\n",
       " 270000000.0,\n",
       " 290000000.0,\n",
       " 3250000000.0,\n",
       " 290000000.0,\n",
       " 1650000000.0,\n",
       " 650000000.0,\n",
       " 140000000.0,\n",
       " 2950000000.0,\n",
       " 290000000.0,\n",
       " 250000000.0,\n",
       " 3150000000.0,\n",
       " 2150000000.0,\n",
       " 2550000000.0,\n",
       " 260000000.0,\n",
       " 260000000.0,\n",
       " 2450000000.0,\n",
       " 200000000.0,\n",
       " 2950000000.0,\n",
       " 3050000000.0,\n",
       " 2450000000.0,\n",
       " 290000000.0,\n",
       " 2550000000.0,\n",
       " 2650000000.0,\n",
       " 2550000000.0,\n",
       " 2650000000.0,\n",
       " 200000000.0,\n",
       " 300000000.0,\n",
       " 260000000.0,\n",
       " 2650000000.0,\n",
       " 2150000000.0,\n",
       " 2250000000.0,\n",
       " 2250000000.0,\n",
       " 2050000000.0,\n",
       " 2350000000.0,\n",
       " 210000000.0,\n",
       " 1850000000.0,\n",
       " 2750000000.0,\n",
       " 2950000000.0,\n",
       " 210000000.0,\n",
       " 2850000000.0,\n",
       " 180000000.0,\n",
       " 2350000000.0,\n",
       " 260000000.0,\n",
       " 260000000.0,\n",
       " 2850000000.0,\n",
       " 2850000000.0,\n",
       " 2250000000.0,\n",
       " 210000000.0,\n",
       " 210000000.0,\n",
       " 2650000000.0,\n",
       " 1850000000.0,\n",
       " 1950000000.0,\n",
       " 2150000000.0,\n",
       " 1950000000.0,\n",
       " 270000000.0,\n",
       " 2250000000.0,\n",
       " 2150000000.0,\n",
       " 210000000.0,\n",
       " 220000000.0,\n",
       " 1850000000.0,\n",
       " 210000000.0,\n",
       " 170000000.0,\n",
       " 210000000.0,\n",
       " 250000000.0,\n",
       " 1850000000.0,\n",
       " 1250000000.0,\n",
       " 2250000000.0,\n",
       " 200000000.0,\n",
       " 220000000.0,\n",
       " 210000000.0,\n",
       " 180000000.0,\n",
       " 2150000000.0,\n",
       " 90000000.0,\n",
       " 170000000.0,\n",
       " 1250000000.0,\n",
       " 1250000000.0,\n",
       " 230000000.0,\n",
       " 150000000.0,\n",
       " 200000000.0,\n",
       " 150000000.0,\n",
       " 190000000.0,\n",
       " 150000000.0,\n",
       " 1250000000.0,\n",
       " 1350000000.0,\n",
       " 1250000000.0,\n",
       " 1250000000.0,\n",
       " 1350000000.0,\n",
       " 1250000000.0,\n",
       " 480000000.0,\n",
       " 80000000.0,\n",
       " 80000000.0,\n",
       " 30000000.0,\n",
       " 150000000.0,\n",
       " 270000000.0,\n",
       " 170000000.0,\n",
       " 2650000000.0,\n",
       " 210000000.0,\n",
       " 260000000.0,\n",
       " 200000000.0,\n",
       " 240000000.0,\n",
       " 260000000.0,\n",
       " 210000000.0,\n",
       " 250000000.0,\n",
       " 240000000.0,\n",
       " 170000000.0,\n",
       " 2050000000.0,\n",
       " 2250000000.0,\n",
       " 1850000000.0,\n",
       " 2450000000.0,\n",
       " 2450000000.0,\n",
       " 2150000000.0,\n",
       " 2250000000.0,\n",
       " 170000000.0,\n",
       " 200000000.0,\n",
       " 2450000000.0,\n",
       " 190000000.0,\n",
       " 2050000000.0,\n",
       " 240000000.0,\n",
       " 1950000000.0,\n",
       " 2250000000.0,\n",
       " 160000000.0,\n",
       " 220000000.0,\n",
       " 1850000000.0,\n",
       " 1850000000.0,\n",
       " 2550000000.0,\n",
       " 2250000000.0,\n",
       " 200000000.0,\n",
       " 170000000.0,\n",
       " 180000000.0,\n",
       " 2150000000.0,\n",
       " 180000000.0,\n",
       " 210000000.0,\n",
       " 1650000000.0,\n",
       " 150000000.0,\n",
       " 170000000.0,\n",
       " 220000000.0,\n",
       " 2350000000.0,\n",
       " 180000000.0,\n",
       " 220000000.0,\n",
       " 1750000000.0,\n",
       " 170000000.0,\n",
       " 1950000000.0,\n",
       " 160000000.0,\n",
       " 130000000.0,\n",
       " 190000000.0,\n",
       " 2150000000.0,\n",
       " 1650000000.0,\n",
       " 1750000000.0,\n",
       " 1750000000.0,\n",
       " 1850000000.0,\n",
       " 210000000.0,\n",
       " 160000000.0,\n",
       " 1550000000.0,\n",
       " 1750000000.0,\n",
       " 230000000.0,\n",
       " 1850000000.0,\n",
       " 180000000.0,\n",
       " 160000000.0,\n",
       " 1750000000.0,\n",
       " 100000000.0,\n",
       " 130000000.0,\n",
       " 140000000.0,\n",
       " 140000000.0,\n",
       " 110000000.0,\n",
       " 1550000000.0,\n",
       " 150000000.0,\n",
       " 70000000.0,\n",
       " 1550000000.0,\n",
       " 170000000.0,\n",
       " 210000000.0,\n",
       " 1450000000.0,\n",
       " 1750000000.0,\n",
       " 1650000000.0,\n",
       " 100000000.0,\n",
       " 90000000.0,\n",
       " 150000000.0,\n",
       " 110000000.0,\n",
       " 80000000.0,\n",
       " 140000000.0,\n",
       " 140000000.0,\n",
       " 1750000000.0,\n",
       " 110000000.0,\n",
       " 1550000000.0,\n",
       " 1350000000.0,\n",
       " 550000000.0,\n",
       " 60000000.0,\n",
       " 2050000000.0,\n",
       " 220000000.0,\n",
       " 2250000000.0,\n",
       " 2350000000.0,\n",
       " 210000000.0,\n",
       " 1850000000.0,\n",
       " 1950000000.0,\n",
       " 1050000000.0,\n",
       " 450000000.0,\n",
       " 210000000.0,\n",
       " 1550000000.0,\n",
       " 160000000.0,\n",
       " 1750000000.0,\n",
       " 170000000.0,\n",
       " 1450000000.0,\n",
       " 200000000.0,\n",
       " 1250000000.0,\n",
       " 2050000000.0,\n",
       " 200000000.0,\n",
       " 120000000.0,\n",
       " 1750000000.0,\n",
       " 1450000000.0,\n",
       " 170000000.0,\n",
       " 200000000.0,\n",
       " 1850000000.0,\n",
       " 200000000.0,\n",
       " 140000000.0,\n",
       " 90000000.0,\n",
       " 200000000.0,\n",
       " 200000000.0,\n",
       " 1950000000.0,\n",
       " 1650000000.0,\n",
       " 1950000000.0,\n",
       " 150000000.0,\n",
       " 1950000000.0,\n",
       " 130000000.0,\n",
       " 1950000000.0,\n",
       " 1950000000.0,\n",
       " 1550000000.0,\n",
       " 1550000000.0,\n",
       " 0.0,\n",
       " 120000000.0,\n",
       " 1650000000.0,\n",
       " 120000000.0,\n",
       " 190000000.0,\n",
       " 1750000000.0,\n",
       " 140000000.0,\n",
       " 1750000000.0,\n",
       " 1950000000.0,\n",
       " 1450000000.0,\n",
       " 1150000000.0,\n",
       " 130000000.0,\n",
       " 1650000000.0,\n",
       " 140000000.0,\n",
       " 140000000.0,\n",
       " 1450000000.0,\n",
       " 1550000000.0,\n",
       " 1850000000.0,\n",
       " 1650000000.0,\n",
       " 160000000.0,\n",
       " 1150000000.0,\n",
       " 1150000000.0,\n",
       " 1450000000.0,\n",
       " 160000000.0,\n",
       " 1750000000.0,\n",
       " 160000000.0,\n",
       " 1150000000.0,\n",
       " 1750000000.0,\n",
       " 180000000.0,\n",
       " 1950000000.0,\n",
       " 1550000000.0,\n",
       " 150000000.0,\n",
       " 120000000.0,\n",
       " 1550000000.0,\n",
       " 150000000.0,\n",
       " 1350000000.0,\n",
       " 120000000.0,\n",
       " 150000000.0,\n",
       " 1550000000.0,\n",
       " 1550000000.0,\n",
       " 120000000.0,\n",
       " 1150000000.0,\n",
       " 120000000.0,\n",
       " 1250000000.0,\n",
       " 1750000000.0,\n",
       " 1550000000.0,\n",
       " 150000000.0,\n",
       " 160000000.0,\n",
       " 90000000.0,\n",
       " 1850000000.0,\n",
       " 140000000.0,\n",
       " 120000000.0,\n",
       " 1150000000.0,\n",
       " 1450000000.0,\n",
       " 120000000.0,\n",
       " 150000000.0,\n",
       " 1350000000.0,\n",
       " 100000000.0,\n",
       " 1250000000.0,\n",
       " 1350000000.0,\n",
       " 1050000000.0,\n",
       " 70000000.0,\n",
       " 1150000000.0,\n",
       " 1350000000.0,\n",
       " 100000000.0,\n",
       " 110000000.0,\n",
       " 1550000000.0,\n",
       " 950000000.0,\n",
       " 80000000.0,\n",
       " 1250000000.0,\n",
       " 110000000.0,\n",
       " 1350000000.0,\n",
       " 90000000.0,\n",
       " 130000000.0,\n",
       " 90000000.0,\n",
       " 100000000.0,\n",
       " 1150000000.0,\n",
       " 1550000000.0,\n",
       " 130000000.0,\n",
       " 1350000000.0,\n",
       " 60000000.0,\n",
       " 100000000.0,\n",
       " 850000000.0,\n",
       " 60000000.0,\n",
       " 850000000.0,\n",
       " 450000000.0,\n",
       " 0.0,\n",
       " 120000000.0,\n",
       " 120000000.0,\n",
       " 850000000.0,\n",
       " 450000000.0,\n",
       " 550000000.0,\n",
       " 20000000.0,\n",
       " 850000000.0,\n",
       " 1150000000.0,\n",
       " 450000000.0,\n",
       " 60000000.0,\n",
       " 170000000.0,\n",
       " 60000000.0,\n",
       " 60000000.0,\n",
       " 120000000.0,\n",
       " 80000000.0,\n",
       " 10000000.0,\n",
       " 180000000.0,\n",
       " 150000000.0,\n",
       " 180000000.0,\n",
       " 180000000.0,\n",
       " 180000000.0,\n",
       " 180000000.0,\n",
       " 180000000.0,\n",
       " 1950000000.0,\n",
       " 120000000.0,\n",
       " 90000000.0,\n",
       " 950000000.0,\n",
       " 950000000.0,\n",
       " 360000000.0,\n",
       " 0.0,\n",
       " 190000000.0,\n",
       " 180000000.0,\n",
       " 100000000.0,\n",
       " 1450000000.0,\n",
       " 160000000.0,\n",
       " 1550000000.0,\n",
       " 180000000.0,\n",
       " 150000000.0,\n",
       " 170000000.0,\n",
       " 100000000.0,\n",
       " 1750000000.0,\n",
       " 150000000.0,\n",
       " 120000000.0,\n",
       " 170000000.0,\n",
       " 1450000000.0,\n",
       " 1450000000.0,\n",
       " 160000000.0,\n",
       " 1750000000.0,\n",
       " 1450000000.0,\n",
       " 170000000.0,\n",
       " 180000000.0,\n",
       " 1250000000.0,\n",
       " 160000000.0,\n",
       " 130000000.0,\n",
       " 1150000000.0,\n",
       " 1450000000.0,\n",
       " 1450000000.0,\n",
       " 170000000.0,\n",
       " 150000000.0,\n",
       " 160000000.0,\n",
       " 1650000000.0,\n",
       " 1550000000.0,\n",
       " 1350000000.0,\n",
       " 1750000000.0,\n",
       " 150000000.0,\n",
       " 1450000000.0,\n",
       " 100000000.0,\n",
       " 130000000.0,\n",
       " 100000000.0,\n",
       " 1450000000.0,\n",
       " 1150000000.0,\n",
       " 1250000000.0,\n",
       " 1550000000.0,\n",
       " 140000000.0,\n",
       " 1750000000.0,\n",
       " 130000000.0,\n",
       " 1150000000.0,\n",
       " 120000000.0,\n",
       " 140000000.0,\n",
       " 100000000.0,\n",
       " 140000000.0,\n",
       " 1150000000.0,\n",
       " 1450000000.0,\n",
       " 150000000.0,\n",
       " 1750000000.0,\n",
       " 160000000.0,\n",
       " 160000000.0,\n",
       " 140000000.0,\n",
       " 120000000.0,\n",
       " 120000000.0,\n",
       " 100000000.0,\n",
       " 1650000000.0,\n",
       " 130000000.0,\n",
       " 130000000.0,\n",
       " 100000000.0,\n",
       " 70000000.0,\n",
       " 130000000.0,\n",
       " 120000000.0,\n",
       " 1250000000.0,\n",
       " 150000000.0,\n",
       " 1550000000.0,\n",
       " 1550000000.0,\n",
       " 1450000000.0,\n",
       " 110000000.0,\n",
       " 160000000.0,\n",
       " 1250000000.0,\n",
       " 120000000.0,\n",
       " 160000000.0,\n",
       " 1050000000.0,\n",
       " 1250000000.0,\n",
       " 1050000000.0,\n",
       " 120000000.0,\n",
       " 1550000000.0,\n",
       " 90000000.0,\n",
       " 1550000000.0,\n",
       " 120000000.0,\n",
       " 130000000.0,\n",
       " 1250000000.0,\n",
       " 1250000000.0,\n",
       " 90000000.0,\n",
       " 1450000000.0,\n",
       " 100000000.0,\n",
       " 130000000.0,\n",
       " 130000000.0,\n",
       " 1450000000.0,\n",
       " 130000000.0,\n",
       " 1150000000.0,\n",
       " 80000000.0,\n",
       " 950000000.0,\n",
       " 100000000.0,\n",
       " 1050000000.0,\n",
       " 950000000.0,\n",
       " 150000000.0,\n",
       " 100000000.0,\n",
       " 100000000.0,\n",
       " 120000000.0,\n",
       " 130000000.0,\n",
       " 1250000000.0,\n",
       " 0.0,\n",
       " 1150000000.0,\n",
       " 950000000.0,\n",
       " 100000000.0,\n",
       " 1250000000.0,\n",
       " 120000000.0,\n",
       " 70000000.0,\n",
       " 1250000000.0,\n",
       " 120000000.0,\n",
       " 950000000.0,\n",
       " 120000000.0,\n",
       " 850000000.0,\n",
       " 1250000000.0,\n",
       " 70000000.0,\n",
       " 1150000000.0,\n",
       " 1150000000.0,\n",
       " 130000000.0,\n",
       " 1150000000.0,\n",
       " 120000000.0,\n",
       " 80000000.0,\n",
       " 750000000.0,\n",
       " 1150000000.0,\n",
       " 100000000.0,\n",
       " 1150000000.0,\n",
       " 70000000.0,\n",
       " 850000000.0,\n",
       " 80000000.0,\n",
       " 750000000.0,\n",
       " 100000000.0,\n",
       " 100000000.0,\n",
       " 70000000.0,\n",
       " 1250000000.0,\n",
       " 650000000.0,\n",
       " 70000000.0,\n",
       " 110000000.0,\n",
       " 850000000.0,\n",
       " 80000000.0,\n",
       " 100000000.0,\n",
       " 750000000.0,\n",
       " 110000000.0,\n",
       " 70000000.0,\n",
       " 750000000.0,\n",
       " 60000000.0,\n",
       " 380000000.0,\n",
       " 100000000.0,\n",
       " 650000000.0,\n",
       " 360000000.0,\n",
       " 650000000.0,\n",
       " 40000000.0,\n",
       " 140000000.0,\n",
       " 140000000.0,\n",
       " 160000000.0,\n",
       " 130000000.0,\n",
       " 1250000000.0,\n",
       " 140000000.0,\n",
       " 1550000000.0,\n",
       " 120000000.0,\n",
       " 140000000.0,\n",
       " 140000000.0,\n",
       " 140000000.0,\n",
       " 90000000.0,\n",
       " 750000000.0,\n",
       " 50000000.0,\n",
       " 750000000.0,\n",
       " 1250000000.0,\n",
       " 1250000000.0,\n",
       " 130000000.0,\n",
       " 1450000000.0,\n",
       " 130000000.0,\n",
       " 140000000.0,\n",
       " 120000000.0,\n",
       " 140000000.0,\n",
       " 60000000.0,\n",
       " 1350000000.0,\n",
       " 140000000.0,\n",
       " 130000000.0,\n",
       " 1450000000.0,\n",
       " 1350000000.0,\n",
       " 1450000000.0,\n",
       " 1550000000.0,\n",
       " 1350000000.0,\n",
       " 1050000000.0,\n",
       " 1250000000.0,\n",
       " 90000000.0,\n",
       " 140000000.0,\n",
       " 130000000.0,\n",
       " 1050000000.0,\n",
       " 120000000.0,\n",
       " 100000000.0,\n",
       " 130000000.0,\n",
       " 1250000000.0,\n",
       " 850000000.0,\n",
       " 1050000000.0,\n",
       " 100000000.0,\n",
       " 150000000.0,\n",
       " 1250000000.0,\n",
       " 100000000.0,\n",
       " 140000000.0,\n",
       " 160000000.0,\n",
       " 750000000.0,\n",
       " 1150000000.0,\n",
       " 1050000000.0,\n",
       " 90000000.0,\n",
       " 110000000.0,\n",
       " 110000000.0,\n",
       " 120000000.0,\n",
       " 140000000.0,\n",
       " 130000000.0,\n",
       " 80000000.0,\n",
       " 1250000000.0,\n",
       " 1050000000.0,\n",
       " 950000000.0,\n",
       " 140000000.0,\n",
       " 1250000000.0,\n",
       " 1350000000.0,\n",
       " 120000000.0,\n",
       " 1350000000.0,\n",
       " 120000000.0,\n",
       " 1250000000.0,\n",
       " 140000000.0,\n",
       " 110000000.0,\n",
       " 1150000000.0,\n",
       " 1350000000.0,\n",
       " 140000000.0,\n",
       " 100000000.0,\n",
       " 1250000000.0,\n",
       " 850000000.0,\n",
       " 1350000000.0,\n",
       " 1050000000.0,\n",
       " 80000000.0,\n",
       " 140000000.0,\n",
       " 140000000.0,\n",
       " 150000000.0,\n",
       " 950000000.0,\n",
       " 140000000.0,\n",
       " 130000000.0,\n",
       " 140000000.0,\n",
       " 1350000000.0,\n",
       " 1050000000.0,\n",
       " 1250000000.0,\n",
       " 850000000.0,\n",
       " 1050000000.0,\n",
       " 1050000000.0,\n",
       " 100000000.0,\n",
       " 1250000000.0,\n",
       " 100000000.0,\n",
       " 120000000.0,\n",
       " 110000000.0,\n",
       " 110000000.0,\n",
       " 1050000000.0,\n",
       " 850000000.0,\n",
       " 120000000.0,\n",
       " 1150000000.0,\n",
       " 120000000.0,\n",
       " 120000000.0,\n",
       " 110000000.0,\n",
       " 950000000.0,\n",
       " 110000000.0,\n",
       " 110000000.0,\n",
       " 1050000000.0,\n",
       " 1250000000.0,\n",
       " 100000000.0,\n",
       " 100000000.0,\n",
       " 1050000000.0,\n",
       " 70000000.0,\n",
       " 110000000.0,\n",
       " 90000000.0,\n",
       " 130000000.0,\n",
       " 1150000000.0,\n",
       " 1050000000.0,\n",
       " 1050000000.0,\n",
       " 950000000.0,\n",
       " 950000000.0,\n",
       " 100000000.0,\n",
       " 950000000.0,\n",
       " 100000000.0,\n",
       " 130000000.0,\n",
       " 50000000.0,\n",
       " 1050000000.0,\n",
       " 100000000.0,\n",
       " 550000000.0,\n",
       " 110000000.0,\n",
       " 950000000.0,\n",
       " 950000000.0,\n",
       " 750000000.0,\n",
       " 100000000.0,\n",
       " 650000000.0,\n",
       " 0.0,\n",
       " 1050000000.0,\n",
       " 100000000.0,\n",
       " 100000000.0,\n",
       " 80000000.0,\n",
       " 1050000000.0,\n",
       " 100000000.0,\n",
       " 240000000.0,\n",
       " 60000000.0,\n",
       " 80000000.0,\n",
       " 0.0,\n",
       " 290000000.0,\n",
       " 70000000.0,\n",
       " 650000000.0,\n",
       " 70000000.0,\n",
       " 80000000.0,\n",
       " 100000000.0,\n",
       " 90000000.0,\n",
       " 60000000.0,\n",
       " 90000000.0,\n",
       " 1250000000.0,\n",
       " 90000000.0,\n",
       " 950000000.0,\n",
       " 100000000.0,\n",
       " 40000000.0,\n",
       " 850000000.0,\n",
       " 650000000.0,\n",
       " 70000000.0,\n",
       " 60000000.0,\n",
       " 100000000.0,\n",
       " 120000000.0,\n",
       " 80000000.0,\n",
       " 90000000.0,\n",
       " 120000000.0,\n",
       " 750000000.0,\n",
       " 110000000.0,\n",
       " 850000000.0,\n",
       " 70000000.0,\n",
       " 850000000.0,\n",
       " 850000000.0,\n",
       " 1150000000.0,\n",
       " 360000000.0,\n",
       " 650000000.0,\n",
       " 1150000000.0,\n",
       " 950000000.0,\n",
       " 90000000.0,\n",
       " 470000000.0,\n",
       " 410000000.0,\n",
       " 90000000.0,\n",
       " 210000000.0,\n",
       " 100000000.0,\n",
       " 1050000000.0,\n",
       " 100000000.0,\n",
       " 100000000.0,\n",
       " 70000000.0,\n",
       " 850000000.0,\n",
       " 50000000.0,\n",
       " 80000000.0,\n",
       " 130000000.0,\n",
       " 360000000.0,\n",
       " 850000000.0,\n",
       " 1050000000.0,\n",
       " 600000.0,\n",
       " 90000000.0,\n",
       " 90000000.0,\n",
       " 270000000.0,\n",
       " 110000000.0,\n",
       " 100000000.0,\n",
       " 1150000000.0,\n",
       " 950000000.0,\n",
       " 1050000000.0,\n",
       " 80000000.0,\n",
       " 950000000.0,\n",
       " 70000000.0,\n",
       " 1250000000.0,\n",
       " 650000000.0,\n",
       " 650000000.0,\n",
       " 70000000.0,\n",
       " 850000000.0,\n",
       " 850000000.0,\n",
       " 100000000.0,\n",
       " 340000000.0,\n",
       " 650000000.0,\n",
       " 750000000.0,\n",
       " 80000000.0,\n",
       " 110000000.0,\n",
       " 70000000.0,\n",
       " 450000000.0,\n",
       " 90000000.0,\n",
       " 0.0,\n",
       " 360000000.0,\n",
       " 550000000.0,\n",
       " 90000000.0,\n",
       " 950000000.0,\n",
       " 1050000000.0,\n",
       " 90000000.0,\n",
       " 70000000.0,\n",
       " 750000000.0,\n",
       " 90000000.0,\n",
       " 1150000000.0,\n",
       " 120000000.0,\n",
       " 850000000.0,\n",
       " 850000000.0,\n",
       " 120000000.0,\n",
       " 90000000.0,\n",
       " 550000000.0,\n",
       " 90000000.0,\n",
       " 650000000.0,\n",
       " 650000000.0,\n",
       " 470000000.0,\n",
       " 1050000000.0,\n",
       " 70000000.0,\n",
       " 850000000.0,\n",
       " 550000000.0,\n",
       " 90000000.0,\n",
       " 550000000.0,\n",
       " 1250000000.0,\n",
       " 90000000.0,\n",
       " 50000000.0,\n",
       " 90000000.0,\n",
       " 70000000.0,\n",
       " 50000000.0,\n",
       " 120000000.0,\n",
       " 650000000.0,\n",
       " 360000000.0,\n",
       " 80000000.0,\n",
       " 250000000.0,\n",
       " 650000000.0,\n",
       " 320000000.0,\n",
       " 50000000.0,\n",
       " 470000000.0,\n",
       " 1150000000.0,\n",
       " 950000000.0,\n",
       " 0.0,\n",
       " 450000000.0,\n",
       " 80000000.0,\n",
       " ...]"
      ]
     },
     "execution_count": 502,
     "metadata": {},
     "output_type": "execute_result"
    }
   ],
   "source": [
    "value"
   ]
  },
  {
   "cell_type": "code",
   "execution_count": 503,
   "metadata": {},
   "outputs": [],
   "source": [
    "data['Value']=value"
   ]
  },
  {
   "cell_type": "code",
   "execution_count": 504,
   "metadata": {},
   "outputs": [
    {
     "data": {
      "text/plain": [
       "0        1.105000e+10\n",
       "1        7.700000e+08\n",
       "2        1.185000e+10\n",
       "3        7.200000e+08\n",
       "4        1.020000e+09\n",
       "             ...     \n",
       "18202    6.000000e+04\n",
       "18203    6.000000e+04\n",
       "18204    6.000000e+04\n",
       "18205    6.000000e+04\n",
       "18206    6.000000e+04\n",
       "Name: Value, Length: 18207, dtype: float64"
      ]
     },
     "execution_count": 504,
     "metadata": {},
     "output_type": "execute_result"
    }
   ],
   "source": [
    "data['Value']"
   ]
  },
  {
   "cell_type": "code",
   "execution_count": 505,
   "metadata": {},
   "outputs": [],
   "source": [
    "#data.Wage\n",
    "wage =data['Wage']\n",
    "wage = wage.str.replace('€','')\n",
    "wage=wage.str.replace('M','0000000')\n",
    "wage=wage.str.replace('K','000')\n",
    "wage=wage.str.replace('.','')"
   ]
  },
  {
   "cell_type": "code",
   "execution_count": 506,
   "metadata": {},
   "outputs": [],
   "source": [
    "wage=list(np.float_(wage))"
   ]
  },
  {
   "cell_type": "code",
   "execution_count": 507,
   "metadata": {},
   "outputs": [],
   "source": [
    "data['Wage']=wage"
   ]
  },
  {
   "cell_type": "code",
   "execution_count": 508,
   "metadata": {},
   "outputs": [
    {
     "data": {
      "text/plain": [
       "0        565000.0\n",
       "1        405000.0\n",
       "2        290000.0\n",
       "3        260000.0\n",
       "4        355000.0\n",
       "           ...   \n",
       "18202      1000.0\n",
       "18203      1000.0\n",
       "18204      1000.0\n",
       "18205      1000.0\n",
       "18206      1000.0\n",
       "Name: Wage, Length: 18207, dtype: float64"
      ]
     },
     "execution_count": 508,
     "metadata": {},
     "output_type": "execute_result"
    }
   ],
   "source": [
    "data['Wage']"
   ]
  },
  {
   "cell_type": "code",
   "execution_count": 509,
   "metadata": {},
   "outputs": [
    {
     "data": {
      "text/plain": [
       "0         Jul 1, 2004\n",
       "1        Jul 10, 2018\n",
       "2         Aug 3, 2017\n",
       "3         Jul 1, 2011\n",
       "4        Aug 30, 2015\n",
       "             ...     \n",
       "18202     May 3, 2017\n",
       "18203    Mar 19, 2018\n",
       "18204     Jul 1, 2017\n",
       "18205    Apr 24, 2018\n",
       "18206    Oct 30, 2018\n",
       "Name: Joined, Length: 18207, dtype: object"
      ]
     },
     "execution_count": 509,
     "metadata": {},
     "output_type": "execute_result"
    }
   ],
   "source": [
    "data['Joined']"
   ]
  },
  {
   "cell_type": "code",
   "execution_count": 510,
   "metadata": {},
   "outputs": [],
   "source": [
    "joined = data['Joined'].str.split(' ',expand = True)[2]"
   ]
  },
  {
   "cell_type": "code",
   "execution_count": 511,
   "metadata": {},
   "outputs": [
    {
     "data": {
      "text/plain": [
       "0        2004\n",
       "1        2018\n",
       "2        2017\n",
       "3        2011\n",
       "4        2015\n",
       "         ... \n",
       "18202    2017\n",
       "18203    2018\n",
       "18204    2017\n",
       "18205    2018\n",
       "18206    2018\n",
       "Name: 2, Length: 18207, dtype: object"
      ]
     },
     "execution_count": 511,
     "metadata": {},
     "output_type": "execute_result"
    }
   ],
   "source": [
    "joined"
   ]
  },
  {
   "cell_type": "code",
   "execution_count": 512,
   "metadata": {},
   "outputs": [
    {
     "data": {
      "text/plain": [
       "count     16654\n",
       "unique       22\n",
       "top        2018\n",
       "freq       6569\n",
       "Name: 2, dtype: object"
      ]
     },
     "execution_count": 512,
     "metadata": {},
     "output_type": "execute_result"
    }
   ],
   "source": [
    "joined.describe()"
   ]
  },
  {
   "cell_type": "code",
   "execution_count": 513,
   "metadata": {},
   "outputs": [],
   "source": [
    "data['Joined'] = list(np.float_(joined))"
   ]
  },
  {
   "cell_type": "code",
   "execution_count": 514,
   "metadata": {},
   "outputs": [
    {
     "data": {
      "text/plain": [
       "1553"
      ]
     },
     "execution_count": 514,
     "metadata": {},
     "output_type": "execute_result"
    }
   ],
   "source": [
    "data['Joined'].isnull().sum()"
   ]
  },
  {
   "cell_type": "code",
   "execution_count": 515,
   "metadata": {},
   "outputs": [
    {
     "data": {
      "text/plain": [
       "count    16654.000000\n",
       "mean      2016.459829\n",
       "std          2.105924\n",
       "min       1991.000000\n",
       "25%       2016.000000\n",
       "50%       2017.000000\n",
       "75%       2018.000000\n",
       "max       2018.000000\n",
       "Name: Joined, dtype: float64"
      ]
     },
     "execution_count": 515,
     "metadata": {},
     "output_type": "execute_result"
    }
   ],
   "source": [
    "data['Joined'].describe()"
   ]
  },
  {
   "cell_type": "code",
   "execution_count": 516,
   "metadata": {},
   "outputs": [],
   "source": [
    "joined.fillna(value='2018',inplace=True)"
   ]
  },
  {
   "cell_type": "code",
   "execution_count": 517,
   "metadata": {},
   "outputs": [],
   "source": [
    "#data['year']= pd.DatetimeIndex(data['Joined']).year\n",
    "#data['Joined']=data['year']"
   ]
  },
  {
   "cell_type": "code",
   "execution_count": 518,
   "metadata": {},
   "outputs": [],
   "source": [
    "data['Joined']=list(np.int_(joined))"
   ]
  },
  {
   "cell_type": "code",
   "execution_count": 519,
   "metadata": {},
   "outputs": [
    {
     "data": {
      "text/plain": [
       "0        2021\n",
       "1        2022\n",
       "2        2022\n",
       "3        2020\n",
       "4        2023\n",
       "         ... \n",
       "18202    2019\n",
       "18203    2020\n",
       "18204    2021\n",
       "18205    2019\n",
       "18206    2019\n",
       "Name: Contract Valid Until, Length: 18207, dtype: object"
      ]
     },
     "execution_count": 519,
     "metadata": {},
     "output_type": "execute_result"
    }
   ],
   "source": [
    "data['Contract Valid Until']"
   ]
  },
  {
   "cell_type": "code",
   "execution_count": 520,
   "metadata": {},
   "outputs": [
    {
     "data": {
      "text/plain": [
       "289"
      ]
     },
     "execution_count": 520,
     "metadata": {},
     "output_type": "execute_result"
    }
   ],
   "source": [
    "data['Contract Valid Until'].isnull().sum()"
   ]
  },
  {
   "cell_type": "code",
   "execution_count": 521,
   "metadata": {},
   "outputs": [
    {
     "data": {
      "text/plain": [
       "count     17918\n",
       "unique       36\n",
       "top        2019\n",
       "freq       4819\n",
       "Name: Contract Valid Until, dtype: object"
      ]
     },
     "execution_count": 521,
     "metadata": {},
     "output_type": "execute_result"
    }
   ],
   "source": [
    "data['Contract Valid Until'].describe()"
   ]
  },
  {
   "cell_type": "code",
   "execution_count": 522,
   "metadata": {},
   "outputs": [],
   "source": [
    "data['Contract Valid Until'].fillna(value ='2019',inplace = True) "
   ]
  },
  {
   "cell_type": "code",
   "execution_count": 523,
   "metadata": {},
   "outputs": [
    {
     "data": {
      "text/plain": [
       "0"
      ]
     },
     "execution_count": 523,
     "metadata": {},
     "output_type": "execute_result"
    }
   ],
   "source": [
    "data['Contract Valid Until'].isnull().sum()"
   ]
  },
  {
   "cell_type": "code",
   "execution_count": 524,
   "metadata": {},
   "outputs": [],
   "source": [
    "### data['Contract Valid Until'].unique()"
   ]
  },
  {
   "cell_type": "code",
   "execution_count": 525,
   "metadata": {},
   "outputs": [],
   "source": [
    "valid=data['Contract Valid Until']"
   ]
  },
  {
   "cell_type": "code",
   "execution_count": 526,
   "metadata": {},
   "outputs": [],
   "source": [
    "valid=valid.replace(to_replace=['May 31, 2019', 'Dec 31, 2019', 'Jan 1, 2019', 'Jun 1, 2019',\n",
    "       'Jan 4, 2019', 'Jan 31, 2019', 'Jan 7, 2019', 'Jan 2, 2019',\n",
    "       'Jan 6, 2019', 'Oct 14, 2019', 'Jan 3, 2019', 'May 4, 2019',\n",
    "       'Jan 12, 2019', 'Jan 25, 2019', 'Jan 18, 2019', 'Dec 1, 2019','Jan 5, 2019', 'Jan 15, 2019',\n",
    "       'Jan 30, 2019', 'Jan 11, 2019', 'Jan 20, 2019'],value='2019')"
   ]
  },
  {
   "cell_type": "code",
   "execution_count": 527,
   "metadata": {},
   "outputs": [
    {
     "data": {
      "text/plain": [
       "array(['2021', '2022', '2020', '2023', '2019', '2024', 'Jun 30, 2019',\n",
       "       '2025', '2026', 'Dec 31, 2018', '2018', 'May 31, 2020',\n",
       "       'Jun 30, 2020', 'Nov 30, 2018', 'Feb 27, 2020'], dtype=object)"
      ]
     },
     "execution_count": 527,
     "metadata": {},
     "output_type": "execute_result"
    }
   ],
   "source": [
    "valid.unique()"
   ]
  },
  {
   "cell_type": "code",
   "execution_count": 528,
   "metadata": {},
   "outputs": [],
   "source": [
    "valid=valid.replace(to_replace=['Dec 31, 2018', 'Nov 30, 2018',],value='2018')"
   ]
  },
  {
   "cell_type": "code",
   "execution_count": 529,
   "metadata": {},
   "outputs": [],
   "source": [
    "valid=valid.replace(to_replace=['May 31, 2020', 'Jun 30, 2020','Feb 27, 2020'],value='2020')"
   ]
  },
  {
   "cell_type": "code",
   "execution_count": 530,
   "metadata": {},
   "outputs": [],
   "source": [
    "valid=valid.replace(to_replace=['Jun 30, 2019'],value='2019')"
   ]
  },
  {
   "cell_type": "code",
   "execution_count": 531,
   "metadata": {},
   "outputs": [
    {
     "data": {
      "text/plain": [
       "0"
      ]
     },
     "execution_count": 531,
     "metadata": {},
     "output_type": "execute_result"
    }
   ],
   "source": [
    "valid.isnull().sum()"
   ]
  },
  {
   "cell_type": "code",
   "execution_count": 532,
   "metadata": {},
   "outputs": [],
   "source": [
    "valid = list(np.int_(valid))"
   ]
  },
  {
   "cell_type": "code",
   "execution_count": 533,
   "metadata": {},
   "outputs": [],
   "source": [
    "data['Contract Valid Until']=valid"
   ]
  },
  {
   "cell_type": "code",
   "execution_count": 534,
   "metadata": {},
   "outputs": [
    {
     "data": {
      "text/plain": [
       "0        2021\n",
       "1        2022\n",
       "2        2022\n",
       "3        2020\n",
       "4        2023\n",
       "         ... \n",
       "18202    2019\n",
       "18203    2020\n",
       "18204    2021\n",
       "18205    2019\n",
       "18206    2019\n",
       "Name: Contract Valid Until, Length: 18207, dtype: int64"
      ]
     },
     "execution_count": 534,
     "metadata": {},
     "output_type": "execute_result"
    }
   ],
   "source": [
    "data['Contract Valid Until']"
   ]
  },
  {
   "cell_type": "code",
   "execution_count": 535,
   "metadata": {},
   "outputs": [
    {
     "data": {
      "text/plain": [
       "0         5'7\n",
       "1         6'2\n",
       "2         5'9\n",
       "3         6'4\n",
       "4        5'11\n",
       "         ... \n",
       "18202     5'9\n",
       "18203     6'3\n",
       "18204     5'8\n",
       "18205    5'10\n",
       "18206    5'10\n",
       "Name: Height, Length: 18207, dtype: object"
      ]
     },
     "execution_count": 535,
     "metadata": {},
     "output_type": "execute_result"
    }
   ],
   "source": [
    "data['Height']"
   ]
  },
  {
   "cell_type": "code",
   "execution_count": 536,
   "metadata": {},
   "outputs": [
    {
     "data": {
      "text/plain": [
       "48"
      ]
     },
     "execution_count": 536,
     "metadata": {},
     "output_type": "execute_result"
    }
   ],
   "source": [
    "data.Height.isnull().sum()"
   ]
  },
  {
   "cell_type": "code",
   "execution_count": 537,
   "metadata": {},
   "outputs": [],
   "source": [
    "Height = data['Height'].str.replace(\"'\",'.')"
   ]
  },
  {
   "cell_type": "code",
   "execution_count": 538,
   "metadata": {},
   "outputs": [],
   "source": [
    "Height= list(np.float_(Height))"
   ]
  },
  {
   "cell_type": "code",
   "execution_count": 539,
   "metadata": {},
   "outputs": [],
   "source": [
    "data['Height'] = Height"
   ]
  },
  {
   "cell_type": "code",
   "execution_count": 540,
   "metadata": {},
   "outputs": [
    {
     "data": {
      "text/plain": [
       "48"
      ]
     },
     "execution_count": 540,
     "metadata": {},
     "output_type": "execute_result"
    }
   ],
   "source": [
    "data['Height'].isnull().sum()"
   ]
  },
  {
   "cell_type": "code",
   "execution_count": 541,
   "metadata": {},
   "outputs": [],
   "source": [
    "data['Height'].fillna(value = data.Height.mean(),inplace = True)"
   ]
  },
  {
   "cell_type": "code",
   "execution_count": 542,
   "metadata": {},
   "outputs": [
    {
     "data": {
      "text/plain": [
       "0"
      ]
     },
     "execution_count": 542,
     "metadata": {},
     "output_type": "execute_result"
    }
   ],
   "source": [
    "data['Height'].isnull().sum()"
   ]
  },
  {
   "cell_type": "code",
   "execution_count": 543,
   "metadata": {},
   "outputs": [
    {
     "data": {
      "text/plain": [
       "0        5.70\n",
       "1        6.20\n",
       "2        5.90\n",
       "3        6.40\n",
       "4        5.11\n",
       "         ... \n",
       "18202    5.90\n",
       "18203    6.30\n",
       "18204    5.80\n",
       "18205    5.10\n",
       "18206    5.10\n",
       "Name: Height, Length: 18207, dtype: float64"
      ]
     },
     "execution_count": 543,
     "metadata": {},
     "output_type": "execute_result"
    }
   ],
   "source": [
    "data['Height']"
   ]
  },
  {
   "cell_type": "code",
   "execution_count": 544,
   "metadata": {},
   "outputs": [
    {
     "data": {
      "text/plain": [
       "48"
      ]
     },
     "execution_count": 544,
     "metadata": {},
     "output_type": "execute_result"
    }
   ],
   "source": [
    "data['Weight'].isnull().sum()"
   ]
  },
  {
   "cell_type": "code",
   "execution_count": 545,
   "metadata": {},
   "outputs": [],
   "source": [
    "weight= data['Weight']"
   ]
  },
  {
   "cell_type": "code",
   "execution_count": 546,
   "metadata": {},
   "outputs": [],
   "source": [
    "weight=weight.str.replace('lbs','')"
   ]
  },
  {
   "cell_type": "code",
   "execution_count": 547,
   "metadata": {},
   "outputs": [],
   "source": [
    "weight= list(np.float_(weight))"
   ]
  },
  {
   "cell_type": "code",
   "execution_count": 548,
   "metadata": {},
   "outputs": [],
   "source": [
    "data['Weight']= weight"
   ]
  },
  {
   "cell_type": "code",
   "execution_count": 549,
   "metadata": {},
   "outputs": [],
   "source": [
    "data['Weight'] =data['Weight'].fillna(value = data['Weight'].mean())"
   ]
  },
  {
   "cell_type": "code",
   "execution_count": 550,
   "metadata": {},
   "outputs": [
    {
     "data": {
      "text/plain": [
       "0"
      ]
     },
     "execution_count": 550,
     "metadata": {},
     "output_type": "execute_result"
    }
   ],
   "source": [
    "data['Weight'].isnull().sum()"
   ]
  },
  {
   "cell_type": "code",
   "execution_count": 551,
   "metadata": {},
   "outputs": [],
   "source": [
    "RC =data['Release Clause']\n",
    "RC = RC.str.replace('€','')\n",
    "RC=RC.str.replace('M','0000000')\n",
    "RC=RC.str.replace('K','000')\n",
    "RC=RC.str.replace('.','')"
   ]
  },
  {
   "cell_type": "code",
   "execution_count": 552,
   "metadata": {},
   "outputs": [],
   "source": [
    "RC = list(np.float_(RC))"
   ]
  },
  {
   "cell_type": "code",
   "execution_count": 553,
   "metadata": {},
   "outputs": [],
   "source": [
    "data['Release Clause'] = RC"
   ]
  },
  {
   "cell_type": "code",
   "execution_count": 554,
   "metadata": {},
   "outputs": [
    {
     "data": {
      "text/plain": [
       "1564"
      ]
     },
     "execution_count": 554,
     "metadata": {},
     "output_type": "execute_result"
    }
   ],
   "source": [
    "data['Release Clause'].isnull().sum()"
   ]
  },
  {
   "cell_type": "code",
   "execution_count": 555,
   "metadata": {},
   "outputs": [
    {
     "data": {
      "text/plain": [
       "ID                              0\n",
       "Name                            0\n",
       "Age                             0\n",
       "Nationality                     0\n",
       "Overall                         0\n",
       "Potential                       0\n",
       "Club                          241\n",
       "Value                           0\n",
       "Wage                            0\n",
       "Preferred Foot                 48\n",
       "International Reputation       48\n",
       "Weak Foot                      48\n",
       "Skill Moves                    48\n",
       "Work Rate                      48\n",
       "Body Type                      48\n",
       "Position                       60\n",
       "Joined                          0\n",
       "Loaned From                 16943\n",
       "Contract Valid Until            0\n",
       "Height                          0\n",
       "Weight                          0\n",
       "Crossing                       48\n",
       "Finishing                      48\n",
       "HeadingAccuracy                48\n",
       "ShortPassing                   48\n",
       "Volleys                        48\n",
       "Dribbling                      48\n",
       "Curve                          48\n",
       "FKAccuracy                     48\n",
       "LongPassing                    48\n",
       "BallControl                    48\n",
       "Acceleration                   48\n",
       "SprintSpeed                    48\n",
       "Agility                        48\n",
       "Reactions                      48\n",
       "Balance                        48\n",
       "ShotPower                      48\n",
       "Jumping                        48\n",
       "Stamina                        48\n",
       "Strength                       48\n",
       "LongShots                      48\n",
       "Aggression                     48\n",
       "Interceptions                  48\n",
       "Positioning                    48\n",
       "Vision                         48\n",
       "Penalties                      48\n",
       "Composure                      48\n",
       "Marking                        48\n",
       "StandingTackle                 48\n",
       "SlidingTackle                  48\n",
       "GKDiving                       48\n",
       "GKHandling                     48\n",
       "GKKicking                      48\n",
       "GKPositioning                  48\n",
       "GKReflexes                     48\n",
       "Release Clause               1564\n",
       "dtype: int64"
      ]
     },
     "execution_count": 555,
     "metadata": {},
     "output_type": "execute_result"
    }
   ],
   "source": [
    "data.isnull().sum()"
   ]
  },
  {
   "cell_type": "markdown",
   "metadata": {},
   "source": [
    "# 1.\tPlot the distribution of Overall rating for all players. "
   ]
  },
  {
   "cell_type": "code",
   "execution_count": 556,
   "metadata": {},
   "outputs": [
    {
     "data": {
      "text/plain": [
       "Text(0.5, 1.0, 'Plot for overall ratings')"
      ]
     },
     "execution_count": 556,
     "metadata": {},
     "output_type": "execute_result"
    },
    {
     "data": {
      "image/png": "[encoded data removed]",
      "text/plain": [
       "<Figure size 432x288 with 1 Axes>"
      ]
     },
     "metadata": {
      "needs_background": "light"
     },
     "output_type": "display_data"
    }
   ],
   "source": [
    "plt.hist(data.Overall)\n",
    "plt.title(\"Plot for overall ratings\")"
   ]
  },
  {
   "cell_type": "code",
   "execution_count": 557,
   "metadata": {},
   "outputs": [
    {
     "data": {
      "text/plain": [
       "<matplotlib.axes._subplots.AxesSubplot at 0x21c95e2e1c8>"
      ]
     },
     "execution_count": 557,
     "metadata": {},
     "output_type": "execute_result"
    },
    {
     "data": {
      "image/png": "[encoded data removed]",
      "text/plain": [
       "<Figure size 1440x720 with 1 Axes>"
      ]
     },
     "metadata": {
      "needs_background": "light"
     },
     "output_type": "display_data"
    }
   ],
   "source": [
    "plt.figure(figsize=(20,10))\n",
    "sns.distplot(data.Overall,bins =10)"
   ]
  },
  {
   "cell_type": "markdown",
   "metadata": {},
   "source": [
    "#  2.\tGenerate pair plots for the following variables:\n",
    " # Overall, Value, Wage, International Reputation, Height, Weight, Release Clause\n"
   ]
  },
  {
   "cell_type": "code",
   "execution_count": 558,
   "metadata": {},
   "outputs": [
    {
     "data": {
      "text/plain": [
       "<seaborn.axisgrid.PairGrid at 0x21c9c40d188>"
      ]
     },
     "execution_count": 558,
     "metadata": {},
     "output_type": "execute_result"
    },
    {
     "data": {
      "image/png": "[encoded data removed]",
      "text/plain": [
       "<Figure size 900x900 with 30 Axes>"
      ]
     },
     "metadata": {
      "needs_background": "light"
     },
     "output_type": "display_data"
    }
   ],
   "source": [
    "column= ['Overall', 'Value','Wage','International Reputation','Height']\n",
    "sns.pairplot(data[column])"
   ]
  },
  {
   "cell_type": "markdown",
   "metadata": {},
   "source": [
    "# 3.\tGenerate a table containing the top 20 players ranked by Overall score and whose contract expires in 2020."
   ]
  },
  {
   "cell_type": "code",
   "execution_count": 559,
   "metadata": {},
   "outputs": [
    {
     "data": {
      "text/html": [
       "<div>\n",
       "<style scoped>\n",
       "    .dataframe tbody tr th:only-of-type {\n",
       "        vertical-align: middle;\n",
       "    }\n",
       "\n",
       "    .dataframe tbody tr th {\n",
       "        vertical-align: top;\n",
       "    }\n",
       "\n",
       "    .dataframe thead th {\n",
       "        text-align: right;\n",
       "    }\n",
       "</style>\n",
       "<table border=\"1\" class=\"dataframe\">\n",
       "  <thead>\n",
       "    <tr style=\"text-align: right;\">\n",
       "      <th></th>\n",
       "      <th>ID</th>\n",
       "      <th>Name</th>\n",
       "      <th>Age</th>\n",
       "      <th>Nationality</th>\n",
       "      <th>Overall</th>\n",
       "      <th>Potential</th>\n",
       "      <th>Club</th>\n",
       "      <th>Value</th>\n",
       "      <th>Wage</th>\n",
       "      <th>Preferred Foot</th>\n",
       "      <th>...</th>\n",
       "      <th>Composure</th>\n",
       "      <th>Marking</th>\n",
       "      <th>StandingTackle</th>\n",
       "      <th>SlidingTackle</th>\n",
       "      <th>GKDiving</th>\n",
       "      <th>GKHandling</th>\n",
       "      <th>GKKicking</th>\n",
       "      <th>GKPositioning</th>\n",
       "      <th>GKReflexes</th>\n",
       "      <th>Release Clause</th>\n",
       "    </tr>\n",
       "  </thead>\n",
       "  <tbody>\n",
       "    <tr>\n",
       "      <td>3</td>\n",
       "      <td>193080</td>\n",
       "      <td>De Gea</td>\n",
       "      <td>27</td>\n",
       "      <td>Spain</td>\n",
       "      <td>91</td>\n",
       "      <td>93</td>\n",
       "      <td>Manchester United</td>\n",
       "      <td>7.200000e+08</td>\n",
       "      <td>260000.0</td>\n",
       "      <td>Right</td>\n",
       "      <td>...</td>\n",
       "      <td>68.0</td>\n",
       "      <td>15.0</td>\n",
       "      <td>21.0</td>\n",
       "      <td>13.0</td>\n",
       "      <td>90.0</td>\n",
       "      <td>85.0</td>\n",
       "      <td>87.0</td>\n",
       "      <td>88.0</td>\n",
       "      <td>94.0</td>\n",
       "      <td>1.386000e+10</td>\n",
       "    </tr>\n",
       "    <tr>\n",
       "      <td>6</td>\n",
       "      <td>177003</td>\n",
       "      <td>L. Modrić</td>\n",
       "      <td>32</td>\n",
       "      <td>Croatia</td>\n",
       "      <td>91</td>\n",
       "      <td>91</td>\n",
       "      <td>Real Madrid</td>\n",
       "      <td>6.700000e+08</td>\n",
       "      <td>420000.0</td>\n",
       "      <td>Right</td>\n",
       "      <td>...</td>\n",
       "      <td>84.0</td>\n",
       "      <td>60.0</td>\n",
       "      <td>76.0</td>\n",
       "      <td>73.0</td>\n",
       "      <td>13.0</td>\n",
       "      <td>9.0</td>\n",
       "      <td>7.0</td>\n",
       "      <td>14.0</td>\n",
       "      <td>9.0</td>\n",
       "      <td>1.374000e+10</td>\n",
       "    </tr>\n",
       "    <tr>\n",
       "      <td>8</td>\n",
       "      <td>155862</td>\n",
       "      <td>Sergio Ramos</td>\n",
       "      <td>32</td>\n",
       "      <td>Spain</td>\n",
       "      <td>91</td>\n",
       "      <td>91</td>\n",
       "      <td>Real Madrid</td>\n",
       "      <td>5.100000e+08</td>\n",
       "      <td>380000.0</td>\n",
       "      <td>Right</td>\n",
       "      <td>...</td>\n",
       "      <td>82.0</td>\n",
       "      <td>87.0</td>\n",
       "      <td>92.0</td>\n",
       "      <td>91.0</td>\n",
       "      <td>11.0</td>\n",
       "      <td>8.0</td>\n",
       "      <td>9.0</td>\n",
       "      <td>7.0</td>\n",
       "      <td>11.0</td>\n",
       "      <td>1.046000e+10</td>\n",
       "    </tr>\n",
       "    <tr>\n",
       "      <td>5</td>\n",
       "      <td>183277</td>\n",
       "      <td>E. Hazard</td>\n",
       "      <td>27</td>\n",
       "      <td>Belgium</td>\n",
       "      <td>91</td>\n",
       "      <td>91</td>\n",
       "      <td>Chelsea</td>\n",
       "      <td>9.300000e+08</td>\n",
       "      <td>340000.0</td>\n",
       "      <td>Right</td>\n",
       "      <td>...</td>\n",
       "      <td>91.0</td>\n",
       "      <td>34.0</td>\n",
       "      <td>27.0</td>\n",
       "      <td>22.0</td>\n",
       "      <td>11.0</td>\n",
       "      <td>12.0</td>\n",
       "      <td>6.0</td>\n",
       "      <td>8.0</td>\n",
       "      <td>8.0</td>\n",
       "      <td>1.721000e+10</td>\n",
       "    </tr>\n",
       "    <tr>\n",
       "      <td>13</td>\n",
       "      <td>168542</td>\n",
       "      <td>David Silva</td>\n",
       "      <td>32</td>\n",
       "      <td>Spain</td>\n",
       "      <td>90</td>\n",
       "      <td>90</td>\n",
       "      <td>Manchester City</td>\n",
       "      <td>6.000000e+08</td>\n",
       "      <td>285000.0</td>\n",
       "      <td>Left</td>\n",
       "      <td>...</td>\n",
       "      <td>93.0</td>\n",
       "      <td>59.0</td>\n",
       "      <td>53.0</td>\n",
       "      <td>29.0</td>\n",
       "      <td>6.0</td>\n",
       "      <td>15.0</td>\n",
       "      <td>7.0</td>\n",
       "      <td>6.0</td>\n",
       "      <td>12.0</td>\n",
       "      <td>1.110000e+09</td>\n",
       "    </tr>\n",
       "    <tr>\n",
       "      <td>21</td>\n",
       "      <td>179813</td>\n",
       "      <td>E. Cavani</td>\n",
       "      <td>31</td>\n",
       "      <td>Uruguay</td>\n",
       "      <td>89</td>\n",
       "      <td>89</td>\n",
       "      <td>Paris Saint-Germain</td>\n",
       "      <td>6.000000e+08</td>\n",
       "      <td>200000.0</td>\n",
       "      <td>Right</td>\n",
       "      <td>...</td>\n",
       "      <td>82.0</td>\n",
       "      <td>52.0</td>\n",
       "      <td>45.0</td>\n",
       "      <td>39.0</td>\n",
       "      <td>12.0</td>\n",
       "      <td>5.0</td>\n",
       "      <td>13.0</td>\n",
       "      <td>13.0</td>\n",
       "      <td>10.0</td>\n",
       "      <td>1.110000e+09</td>\n",
       "    </tr>\n",
       "    <tr>\n",
       "      <td>24</td>\n",
       "      <td>138956</td>\n",
       "      <td>G. Chiellini</td>\n",
       "      <td>33</td>\n",
       "      <td>Italy</td>\n",
       "      <td>89</td>\n",
       "      <td>89</td>\n",
       "      <td>Juventus</td>\n",
       "      <td>2.700000e+08</td>\n",
       "      <td>215000.0</td>\n",
       "      <td>Left</td>\n",
       "      <td>...</td>\n",
       "      <td>84.0</td>\n",
       "      <td>93.0</td>\n",
       "      <td>93.0</td>\n",
       "      <td>90.0</td>\n",
       "      <td>3.0</td>\n",
       "      <td>3.0</td>\n",
       "      <td>2.0</td>\n",
       "      <td>4.0</td>\n",
       "      <td>3.0</td>\n",
       "      <td>4.460000e+09</td>\n",
       "    </tr>\n",
       "    <tr>\n",
       "      <td>31</td>\n",
       "      <td>190460</td>\n",
       "      <td>C. Eriksen</td>\n",
       "      <td>26</td>\n",
       "      <td>Denmark</td>\n",
       "      <td>88</td>\n",
       "      <td>91</td>\n",
       "      <td>Tottenham Hotspur</td>\n",
       "      <td>7.350000e+09</td>\n",
       "      <td>205000.0</td>\n",
       "      <td>Right</td>\n",
       "      <td>...</td>\n",
       "      <td>88.0</td>\n",
       "      <td>59.0</td>\n",
       "      <td>57.0</td>\n",
       "      <td>22.0</td>\n",
       "      <td>9.0</td>\n",
       "      <td>14.0</td>\n",
       "      <td>7.0</td>\n",
       "      <td>7.0</td>\n",
       "      <td>6.0</td>\n",
       "      <td>1.415000e+10</td>\n",
       "    </tr>\n",
       "    <tr>\n",
       "      <td>39</td>\n",
       "      <td>164240</td>\n",
       "      <td>Thiago Silva</td>\n",
       "      <td>33</td>\n",
       "      <td>Brazil</td>\n",
       "      <td>88</td>\n",
       "      <td>88</td>\n",
       "      <td>Paris Saint-Germain</td>\n",
       "      <td>2.400000e+08</td>\n",
       "      <td>165000.0</td>\n",
       "      <td>Right</td>\n",
       "      <td>...</td>\n",
       "      <td>81.0</td>\n",
       "      <td>88.0</td>\n",
       "      <td>89.0</td>\n",
       "      <td>85.0</td>\n",
       "      <td>9.0</td>\n",
       "      <td>12.0</td>\n",
       "      <td>5.0</td>\n",
       "      <td>9.0</td>\n",
       "      <td>10.0</td>\n",
       "      <td>4.440000e+09</td>\n",
       "    </tr>\n",
       "    <tr>\n",
       "      <td>50</td>\n",
       "      <td>175943</td>\n",
       "      <td>D. Mertens</td>\n",
       "      <td>31</td>\n",
       "      <td>Belgium</td>\n",
       "      <td>87</td>\n",
       "      <td>87</td>\n",
       "      <td>Napoli</td>\n",
       "      <td>4.500000e+08</td>\n",
       "      <td>135000.0</td>\n",
       "      <td>Right</td>\n",
       "      <td>...</td>\n",
       "      <td>81.0</td>\n",
       "      <td>25.0</td>\n",
       "      <td>40.0</td>\n",
       "      <td>40.0</td>\n",
       "      <td>7.0</td>\n",
       "      <td>10.0</td>\n",
       "      <td>8.0</td>\n",
       "      <td>10.0</td>\n",
       "      <td>4.0</td>\n",
       "      <td>7.650000e+09</td>\n",
       "    </tr>\n",
       "    <tr>\n",
       "      <td>52</td>\n",
       "      <td>171877</td>\n",
       "      <td>M. Hamšík</td>\n",
       "      <td>30</td>\n",
       "      <td>Slovakia</td>\n",
       "      <td>87</td>\n",
       "      <td>87</td>\n",
       "      <td>Napoli</td>\n",
       "      <td>4.650000e+09</td>\n",
       "      <td>125000.0</td>\n",
       "      <td>Right</td>\n",
       "      <td>...</td>\n",
       "      <td>84.0</td>\n",
       "      <td>75.0</td>\n",
       "      <td>73.0</td>\n",
       "      <td>62.0</td>\n",
       "      <td>8.0</td>\n",
       "      <td>6.0</td>\n",
       "      <td>4.0</td>\n",
       "      <td>14.0</td>\n",
       "      <td>14.0</td>\n",
       "      <td>7.910000e+09</td>\n",
       "    </tr>\n",
       "    <tr>\n",
       "      <td>49</td>\n",
       "      <td>189332</td>\n",
       "      <td>Jordi Alba</td>\n",
       "      <td>29</td>\n",
       "      <td>Spain</td>\n",
       "      <td>87</td>\n",
       "      <td>87</td>\n",
       "      <td>FC Barcelona</td>\n",
       "      <td>3.800000e+08</td>\n",
       "      <td>250000.0</td>\n",
       "      <td>Left</td>\n",
       "      <td>...</td>\n",
       "      <td>79.0</td>\n",
       "      <td>72.0</td>\n",
       "      <td>84.0</td>\n",
       "      <td>85.0</td>\n",
       "      <td>13.0</td>\n",
       "      <td>15.0</td>\n",
       "      <td>13.0</td>\n",
       "      <td>6.0</td>\n",
       "      <td>13.0</td>\n",
       "      <td>7.790000e+09</td>\n",
       "    </tr>\n",
       "    <tr>\n",
       "      <td>46</td>\n",
       "      <td>193041</td>\n",
       "      <td>K. Navas</td>\n",
       "      <td>31</td>\n",
       "      <td>Costa Rica</td>\n",
       "      <td>87</td>\n",
       "      <td>87</td>\n",
       "      <td>Real Madrid</td>\n",
       "      <td>3.050000e+09</td>\n",
       "      <td>195000.0</td>\n",
       "      <td>Right</td>\n",
       "      <td>...</td>\n",
       "      <td>67.0</td>\n",
       "      <td>28.0</td>\n",
       "      <td>14.0</td>\n",
       "      <td>14.0</td>\n",
       "      <td>90.0</td>\n",
       "      <td>81.0</td>\n",
       "      <td>75.0</td>\n",
       "      <td>82.0</td>\n",
       "      <td>90.0</td>\n",
       "      <td>6.250000e+09</td>\n",
       "    </tr>\n",
       "    <tr>\n",
       "      <td>64</td>\n",
       "      <td>191043</td>\n",
       "      <td>Alex Sandro</td>\n",
       "      <td>27</td>\n",
       "      <td>Brazil</td>\n",
       "      <td>86</td>\n",
       "      <td>86</td>\n",
       "      <td>Juventus</td>\n",
       "      <td>3.650000e+09</td>\n",
       "      <td>160000.0</td>\n",
       "      <td>Left</td>\n",
       "      <td>...</td>\n",
       "      <td>82.0</td>\n",
       "      <td>81.0</td>\n",
       "      <td>84.0</td>\n",
       "      <td>84.0</td>\n",
       "      <td>7.0</td>\n",
       "      <td>7.0</td>\n",
       "      <td>9.0</td>\n",
       "      <td>12.0</td>\n",
       "      <td>5.0</td>\n",
       "      <td>6.020000e+09</td>\n",
       "    </tr>\n",
       "    <tr>\n",
       "      <td>71</td>\n",
       "      <td>184087</td>\n",
       "      <td>T. Alderweireld</td>\n",
       "      <td>29</td>\n",
       "      <td>Belgium</td>\n",
       "      <td>86</td>\n",
       "      <td>87</td>\n",
       "      <td>Tottenham Hotspur</td>\n",
       "      <td>3.900000e+08</td>\n",
       "      <td>150000.0</td>\n",
       "      <td>Right</td>\n",
       "      <td>...</td>\n",
       "      <td>81.0</td>\n",
       "      <td>90.0</td>\n",
       "      <td>91.0</td>\n",
       "      <td>86.0</td>\n",
       "      <td>16.0</td>\n",
       "      <td>6.0</td>\n",
       "      <td>14.0</td>\n",
       "      <td>16.0</td>\n",
       "      <td>14.0</td>\n",
       "      <td>7.510000e+09</td>\n",
       "    </tr>\n",
       "    <tr>\n",
       "      <td>73</td>\n",
       "      <td>177509</td>\n",
       "      <td>M. Benatia</td>\n",
       "      <td>31</td>\n",
       "      <td>Morocco</td>\n",
       "      <td>86</td>\n",
       "      <td>86</td>\n",
       "      <td>Juventus</td>\n",
       "      <td>3.000000e+08</td>\n",
       "      <td>160000.0</td>\n",
       "      <td>Right</td>\n",
       "      <td>...</td>\n",
       "      <td>82.0</td>\n",
       "      <td>89.0</td>\n",
       "      <td>87.0</td>\n",
       "      <td>85.0</td>\n",
       "      <td>7.0</td>\n",
       "      <td>4.0</td>\n",
       "      <td>8.0</td>\n",
       "      <td>7.0</td>\n",
       "      <td>11.0</td>\n",
       "      <td>4.950000e+09</td>\n",
       "    </tr>\n",
       "    <tr>\n",
       "      <td>75</td>\n",
       "      <td>135507</td>\n",
       "      <td>Fernandinho</td>\n",
       "      <td>33</td>\n",
       "      <td>Brazil</td>\n",
       "      <td>86</td>\n",
       "      <td>86</td>\n",
       "      <td>Manchester City</td>\n",
       "      <td>1.800000e+08</td>\n",
       "      <td>185000.0</td>\n",
       "      <td>Right</td>\n",
       "      <td>...</td>\n",
       "      <td>79.0</td>\n",
       "      <td>85.0</td>\n",
       "      <td>85.0</td>\n",
       "      <td>80.0</td>\n",
       "      <td>12.0</td>\n",
       "      <td>11.0</td>\n",
       "      <td>5.0</td>\n",
       "      <td>13.0</td>\n",
       "      <td>7.0</td>\n",
       "      <td>3.330000e+09</td>\n",
       "    </tr>\n",
       "    <tr>\n",
       "      <td>102</td>\n",
       "      <td>171919</td>\n",
       "      <td>Naldo</td>\n",
       "      <td>35</td>\n",
       "      <td>Brazil</td>\n",
       "      <td>85</td>\n",
       "      <td>85</td>\n",
       "      <td>FC Schalke 04</td>\n",
       "      <td>9.000000e+07</td>\n",
       "      <td>38000.0</td>\n",
       "      <td>Right</td>\n",
       "      <td>...</td>\n",
       "      <td>84.0</td>\n",
       "      <td>86.0</td>\n",
       "      <td>88.0</td>\n",
       "      <td>85.0</td>\n",
       "      <td>14.0</td>\n",
       "      <td>10.0</td>\n",
       "      <td>14.0</td>\n",
       "      <td>8.0</td>\n",
       "      <td>14.0</td>\n",
       "      <td>1.530000e+09</td>\n",
       "    </tr>\n",
       "    <tr>\n",
       "      <td>104</td>\n",
       "      <td>168609</td>\n",
       "      <td>Miranda</td>\n",
       "      <td>33</td>\n",
       "      <td>Brazil</td>\n",
       "      <td>85</td>\n",
       "      <td>85</td>\n",
       "      <td>Inter</td>\n",
       "      <td>1.550000e+09</td>\n",
       "      <td>96000.0</td>\n",
       "      <td>Right</td>\n",
       "      <td>...</td>\n",
       "      <td>81.0</td>\n",
       "      <td>90.0</td>\n",
       "      <td>90.0</td>\n",
       "      <td>85.0</td>\n",
       "      <td>12.0</td>\n",
       "      <td>6.0</td>\n",
       "      <td>10.0</td>\n",
       "      <td>13.0</td>\n",
       "      <td>12.0</td>\n",
       "      <td>2.640000e+09</td>\n",
       "    </tr>\n",
       "    <tr>\n",
       "      <td>103</td>\n",
       "      <td>170890</td>\n",
       "      <td>B. Matuidi</td>\n",
       "      <td>31</td>\n",
       "      <td>France</td>\n",
       "      <td>85</td>\n",
       "      <td>85</td>\n",
       "      <td>Juventus</td>\n",
       "      <td>2.600000e+08</td>\n",
       "      <td>145000.0</td>\n",
       "      <td>Left</td>\n",
       "      <td>...</td>\n",
       "      <td>82.0</td>\n",
       "      <td>85.0</td>\n",
       "      <td>84.0</td>\n",
       "      <td>86.0</td>\n",
       "      <td>8.0</td>\n",
       "      <td>11.0</td>\n",
       "      <td>5.0</td>\n",
       "      <td>10.0</td>\n",
       "      <td>14.0</td>\n",
       "      <td>4.290000e+09</td>\n",
       "    </tr>\n",
       "  </tbody>\n",
       "</table>\n",
       "<p>20 rows × 56 columns</p>\n",
       "</div>"
      ],
      "text/plain": [
       "         ID             Name  Age Nationality  Overall  Potential  \\\n",
       "3    193080           De Gea   27       Spain       91         93   \n",
       "6    177003        L. Modrić   32     Croatia       91         91   \n",
       "8    155862     Sergio Ramos   32       Spain       91         91   \n",
       "5    183277        E. Hazard   27     Belgium       91         91   \n",
       "13   168542      David Silva   32       Spain       90         90   \n",
       "21   179813        E. Cavani   31     Uruguay       89         89   \n",
       "24   138956     G. Chiellini   33       Italy       89         89   \n",
       "31   190460       C. Eriksen   26     Denmark       88         91   \n",
       "39   164240     Thiago Silva   33      Brazil       88         88   \n",
       "50   175943       D. Mertens   31     Belgium       87         87   \n",
       "52   171877        M. Hamšík   30    Slovakia       87         87   \n",
       "49   189332       Jordi Alba   29       Spain       87         87   \n",
       "46   193041         K. Navas   31  Costa Rica       87         87   \n",
       "64   191043      Alex Sandro   27      Brazil       86         86   \n",
       "71   184087  T. Alderweireld   29     Belgium       86         87   \n",
       "73   177509       M. Benatia   31     Morocco       86         86   \n",
       "75   135507      Fernandinho   33      Brazil       86         86   \n",
       "102  171919            Naldo   35      Brazil       85         85   \n",
       "104  168609          Miranda   33      Brazil       85         85   \n",
       "103  170890       B. Matuidi   31      France       85         85   \n",
       "\n",
       "                    Club         Value      Wage Preferred Foot  ...  \\\n",
       "3      Manchester United  7.200000e+08  260000.0          Right  ...   \n",
       "6            Real Madrid  6.700000e+08  420000.0          Right  ...   \n",
       "8            Real Madrid  5.100000e+08  380000.0          Right  ...   \n",
       "5                Chelsea  9.300000e+08  340000.0          Right  ...   \n",
       "13       Manchester City  6.000000e+08  285000.0           Left  ...   \n",
       "21   Paris Saint-Germain  6.000000e+08  200000.0          Right  ...   \n",
       "24              Juventus  2.700000e+08  215000.0           Left  ...   \n",
       "31     Tottenham Hotspur  7.350000e+09  205000.0          Right  ...   \n",
       "39   Paris Saint-Germain  2.400000e+08  165000.0          Right  ...   \n",
       "50                Napoli  4.500000e+08  135000.0          Right  ...   \n",
       "52                Napoli  4.650000e+09  125000.0          Right  ...   \n",
       "49          FC Barcelona  3.800000e+08  250000.0           Left  ...   \n",
       "46           Real Madrid  3.050000e+09  195000.0          Right  ...   \n",
       "64              Juventus  3.650000e+09  160000.0           Left  ...   \n",
       "71     Tottenham Hotspur  3.900000e+08  150000.0          Right  ...   \n",
       "73              Juventus  3.000000e+08  160000.0          Right  ...   \n",
       "75       Manchester City  1.800000e+08  185000.0          Right  ...   \n",
       "102        FC Schalke 04  9.000000e+07   38000.0          Right  ...   \n",
       "104                Inter  1.550000e+09   96000.0          Right  ...   \n",
       "103             Juventus  2.600000e+08  145000.0           Left  ...   \n",
       "\n",
       "     Composure  Marking  StandingTackle SlidingTackle GKDiving GKHandling  \\\n",
       "3         68.0     15.0            21.0          13.0     90.0       85.0   \n",
       "6         84.0     60.0            76.0          73.0     13.0        9.0   \n",
       "8         82.0     87.0            92.0          91.0     11.0        8.0   \n",
       "5         91.0     34.0            27.0          22.0     11.0       12.0   \n",
       "13        93.0     59.0            53.0          29.0      6.0       15.0   \n",
       "21        82.0     52.0            45.0          39.0     12.0        5.0   \n",
       "24        84.0     93.0            93.0          90.0      3.0        3.0   \n",
       "31        88.0     59.0            57.0          22.0      9.0       14.0   \n",
       "39        81.0     88.0            89.0          85.0      9.0       12.0   \n",
       "50        81.0     25.0            40.0          40.0      7.0       10.0   \n",
       "52        84.0     75.0            73.0          62.0      8.0        6.0   \n",
       "49        79.0     72.0            84.0          85.0     13.0       15.0   \n",
       "46        67.0     28.0            14.0          14.0     90.0       81.0   \n",
       "64        82.0     81.0            84.0          84.0      7.0        7.0   \n",
       "71        81.0     90.0            91.0          86.0     16.0        6.0   \n",
       "73        82.0     89.0            87.0          85.0      7.0        4.0   \n",
       "75        79.0     85.0            85.0          80.0     12.0       11.0   \n",
       "102       84.0     86.0            88.0          85.0     14.0       10.0   \n",
       "104       81.0     90.0            90.0          85.0     12.0        6.0   \n",
       "103       82.0     85.0            84.0          86.0      8.0       11.0   \n",
       "\n",
       "     GKKicking GKPositioning  GKReflexes  Release Clause  \n",
       "3         87.0          88.0        94.0    1.386000e+10  \n",
       "6          7.0          14.0         9.0    1.374000e+10  \n",
       "8          9.0           7.0        11.0    1.046000e+10  \n",
       "5          6.0           8.0         8.0    1.721000e+10  \n",
       "13         7.0           6.0        12.0    1.110000e+09  \n",
       "21        13.0          13.0        10.0    1.110000e+09  \n",
       "24         2.0           4.0         3.0    4.460000e+09  \n",
       "31         7.0           7.0         6.0    1.415000e+10  \n",
       "39         5.0           9.0        10.0    4.440000e+09  \n",
       "50         8.0          10.0         4.0    7.650000e+09  \n",
       "52         4.0          14.0        14.0    7.910000e+09  \n",
       "49        13.0           6.0        13.0    7.790000e+09  \n",
       "46        75.0          82.0        90.0    6.250000e+09  \n",
       "64         9.0          12.0         5.0    6.020000e+09  \n",
       "71        14.0          16.0        14.0    7.510000e+09  \n",
       "73         8.0           7.0        11.0    4.950000e+09  \n",
       "75         5.0          13.0         7.0    3.330000e+09  \n",
       "102       14.0           8.0        14.0    1.530000e+09  \n",
       "104       10.0          13.0        12.0    2.640000e+09  \n",
       "103        5.0          10.0        14.0    4.290000e+09  \n",
       "\n",
       "[20 rows x 56 columns]"
      ]
     },
     "execution_count": 559,
     "metadata": {},
     "output_type": "execute_result"
    }
   ],
   "source": [
    "top = data[(data['Contract Valid Until'] ==2020)].sort_values(by ='Overall' ,ascending = False).head(20)\n",
    "top"
   ]
  },
  {
   "cell_type": "markdown",
   "metadata": {},
   "source": [
    "# a)\tWhat would the average wage for this set of players be?"
   ]
  },
  {
   "cell_type": "code",
   "execution_count": 560,
   "metadata": {},
   "outputs": [
    {
     "data": {
      "text/plain": [
       "205450.0"
      ]
     },
     "execution_count": 560,
     "metadata": {},
     "output_type": "execute_result"
    }
   ],
   "source": [
    "top.Wage.mean()"
   ]
  },
  {
   "cell_type": "markdown",
   "metadata": {},
   "source": [
    "#  b)\tWhat is the average age?"
   ]
  },
  {
   "cell_type": "code",
   "execution_count": 561,
   "metadata": {},
   "outputs": [
    {
     "data": {
      "text/plain": [
       "30.65"
      ]
     },
     "execution_count": 561,
     "metadata": {},
     "output_type": "execute_result"
    }
   ],
   "source": [
    "top.Age.mean()"
   ]
  },
  {
   "cell_type": "code",
   "execution_count": 562,
   "metadata": {},
   "outputs": [
    {
     "data": {
      "text/plain": [
       "<matplotlib.axes._subplots.AxesSubplot at 0x21c9f1ad488>"
      ]
     },
     "execution_count": 562,
     "metadata": {},
     "output_type": "execute_result"
    },
    {
     "data": {
      "image/png": "[encoded data removed]",
      "text/plain": [
       "<Figure size 432x288 with 1 Axes>"
      ]
     },
     "metadata": {
      "needs_background": "light"
     },
     "output_type": "display_data"
    }
   ],
   "source": [
    "sns.scatterplot(x= top['Value'],y=top['Overall'])"
   ]
  },
  {
   "cell_type": "markdown",
   "metadata": {},
   "source": [
    "#  c)\tIs there a correlation between the Overall rating and Value for these players?\n",
    "\n"
   ]
  },
  {
   "cell_type": "code",
   "execution_count": 563,
   "metadata": {},
   "outputs": [
    {
     "data": {
      "text/plain": [
       "array([[ 1.        , -0.07750669],\n",
       "       [-0.07750669,  1.        ]])"
      ]
     },
     "execution_count": 563,
     "metadata": {},
     "output_type": "execute_result"
    }
   ],
   "source": [
    "np.corrcoef(top.Overall,top.Value)"
   ]
  },
  {
   "cell_type": "code",
   "execution_count": 564,
   "metadata": {},
   "outputs": [
    {
     "data": {
      "text/plain": [
       "-0.07750669365084294"
      ]
     },
     "execution_count": 564,
     "metadata": {},
     "output_type": "execute_result"
    }
   ],
   "source": [
    "top['Value'].corr(top['Overall'])"
   ]
  },
  {
   "cell_type": "markdown",
   "metadata": {},
   "source": [
    "There is no significant correlation between the Overall rating and Value of these Players"
   ]
  },
  {
   "cell_type": "markdown",
   "metadata": {},
   "source": [
    "#  4.\tGenerate tables containing the top 5 players by Overall rating for each unique position"
   ]
  },
  {
   "cell_type": "code",
   "execution_count": 565,
   "metadata": {},
   "outputs": [],
   "source": [
    "position =data['Position'].unique()"
   ]
  },
  {
   "cell_type": "code",
   "execution_count": 566,
   "metadata": {},
   "outputs": [
    {
     "data": {
      "text/plain": [
       "array(['RF', 'ST', 'LW', 'GK', 'RCM', 'LF', 'RS', 'RCB', 'LCM', 'CB',\n",
       "       'LDM', 'CAM', 'CDM', 'LS', 'LCB', 'RM', 'LAM', 'LM', 'LB', 'RDM',\n",
       "       'RW', 'CM', 'RB', 'RAM', 'CF', 'RWB', 'LWB', nan], dtype=object)"
      ]
     },
     "execution_count": 566,
     "metadata": {},
     "output_type": "execute_result"
    }
   ],
   "source": [
    "position"
   ]
  },
  {
   "cell_type": "code",
   "execution_count": 567,
   "metadata": {},
   "outputs": [
    {
     "name": "stdout",
     "output_type": "stream",
     "text": [
      "For RF position top 5 players by Overall rating \n",
      "              Name      Wage  Overall\n",
      "0        L. Messi  565000.0       94\n",
      "50     D. Mertens  135000.0       87\n",
      "528     D. Valeri   12000.0       80\n",
      "890   L. Podolski   11000.0       78\n",
      "1774     C. Ciano   17000.0       75\n",
      "\t\n",
      "For ST position top 5 players by Overall rating \n",
      "                  Name      Wage  Overall\n",
      "1   Cristiano Ronaldo  405000.0       94\n",
      "10     R. Lewandowski  205000.0       90\n",
      "16            H. Kane  205000.0       89\n",
      "23          S. Agüero  300000.0       89\n",
      "36            G. Bale  355000.0       88\n",
      "\t\n",
      "For LW position top 5 players by Overall rating \n",
      "           Name      Wage  Overall\n",
      "2    Neymar Jr  290000.0       92\n",
      "30        Isco  315000.0       88\n",
      "32    Coutinho  340000.0       88\n",
      "29  L. Insigne  165000.0       88\n",
      "55     L. Sané  195000.0       86\n",
      "\t\n",
      "For GK position top 5 players by Overall rating \n",
      "              Name      Wage  Overall\n",
      "3          De Gea  260000.0       91\n",
      "9        J. Oblak   94000.0       90\n",
      "18  M. ter Stegen  240000.0       89\n",
      "19    T. Courtois  240000.0       89\n",
      "22       M. Neuer  130000.0       89\n",
      "\t\n",
      "For RCM position top 5 players by Overall rating \n",
      "             Name      Wage  Overall\n",
      "4   K. De Bruyne  355000.0       91\n",
      "6      L. Modrić  420000.0       91\n",
      "53    I. Rakitić  260000.0       87\n",
      "82    J. Kimmich   92000.0       85\n",
      "83          Saúl   77000.0       85\n",
      "\t\n",
      "For LF position top 5 players by Overall rating \n",
      "                 Name      Wage  Overall\n",
      "5          E. Hazard  340000.0       91\n",
      "15         P. Dybala  205000.0       89\n",
      "76           Iniesta   21000.0       86\n",
      "272   Jonathan Viera   31000.0       82\n",
      "1379       S. Blanco    9000.0       76\n",
      "\t\n",
      "For RS position top 5 players by Overall rating \n",
      "                Name      Wage  Overall\n",
      "7         L. Suárez  455000.0       91\n",
      "109  Z. Ibrahimović   15000.0       85\n",
      "148          Falcao  115000.0       84\n",
      "267   W. Ben Yedder   28000.0       82\n",
      "357         S. Zaza   48000.0       81\n",
      "\t\n",
      "For RCB position top 5 players by Overall rating \n",
      "             Name      Wage  Overall\n",
      "8   Sergio Ramos  380000.0       91\n",
      "39  Thiago Silva  165000.0       88\n",
      "54         Piqué  240000.0       87\n",
      "62     R. Varane  210000.0       86\n",
      "70    L. Bonucci  160000.0       86\n",
      "\t\n",
      "For LCM position top 5 players by Overall rating \n",
      "                 Name      Wage  Overall\n",
      "11          T. Kroos  355000.0       90\n",
      "13       David Silva  285000.0       90\n",
      "52         M. Hamšík  125000.0       87\n",
      "63       M. Verratti  135000.0       86\n",
      "114  Bruno Fernandes   22000.0       84\n",
      "\t\n",
      "For CB position top 5 players by Overall rating \n",
      "             Name      Wage  Overall\n",
      "12      D. Godín  125000.0       90\n",
      "42     S. Umtiti  205000.0       87\n",
      "73    M. Benatia  160000.0       86\n",
      "89   N. Otamendi  170000.0       85\n",
      "102        Naldo   38000.0       85\n",
      "\t\n",
      "For LDM position top 5 players by Overall rating \n",
      "             Name      Wage  Overall\n",
      "14      N. Kanté  225000.0       89\n",
      "91      Paulinho  235000.0       85\n",
      "119   Marquinhos   90000.0       84\n",
      "217  Lucas Leiva   64000.0       83\n",
      "323   F. de Jong   19000.0       81\n",
      "\t\n",
      "For CAM position top 5 players by Overall rating \n",
      "                Name      Wage  Overall\n",
      "17     A. Griezmann  145000.0       89\n",
      "31       C. Eriksen  205000.0       88\n",
      "61  Roberto Firmino  195000.0       86\n",
      "66        T. Müller  135000.0       86\n",
      "74          M. Özil  190000.0       86\n",
      "\t\n",
      "For CDM position top 5 players by Overall rating \n",
      "                 Name      Wage  Overall\n",
      "20   Sergio Busquets  315000.0       89\n",
      "27          Casemiro  285000.0       88\n",
      "72         M. Pjanić  180000.0       86\n",
      "75       Fernandinho  185000.0       86\n",
      "118          Fabinho  120000.0       84\n",
      "\t\n",
      "For LS position top 5 players by Overall rating \n",
      "               Name      Wage  Overall\n",
      "21       E. Cavani  200000.0       89\n",
      "38      G. Higuaín  245000.0       88\n",
      "100    Diego Costa  100000.0       85\n",
      "151       A. Gómez   53000.0       84\n",
      "174  Gerard Moreno   53000.0       83\n",
      "\t\n",
      "For LCB position top 5 players by Overall rating \n",
      "              Name      Wage  Overall\n",
      "24   G. Chiellini  215000.0       89\n",
      "34     M. Hummels  160000.0       88\n",
      "44   K. Koulibaly  115000.0       87\n",
      "51  J. Vertonghen  155000.0       87\n",
      "59    V. van Dijk  165000.0       86\n",
      "\t\n",
      "For RM position top 5 players by Overall rating \n",
      "               Name      Wage  Overall\n",
      "25       K. Mbappé  100000.0       88\n",
      "26        M. Salah  255000.0       88\n",
      "122     F. Thauvin   72000.0       84\n",
      "137  José Callejón  105000.0       84\n",
      "138    A. Di María  125000.0       84\n",
      "\t\n",
      "For LAM position top 5 players by Overall rating \n",
      "                  Name      Wage  Overall\n",
      "28       J. Rodríguez  315000.0       88\n",
      "365          D. Tadić   26000.0       81\n",
      "1587   Fabrio Farinha   31000.0       75\n",
      "2247  Leo Caldeirinha   13000.0       74\n",
      "2342  Nicolás Formido   23000.0       74\n",
      "\t\n",
      "For LM position top 5 players by Overall rating \n",
      "              Name      Wage  Overall\n",
      "33  P. Aubameyang  265000.0       88\n",
      "65  Douglas Costa  175000.0       86\n",
      "68        M. Reus  100000.0       86\n",
      "58        S. Mané  195000.0       86\n",
      "86           Koke   88000.0       85\n",
      "\t\n",
      "For LB position top 5 players by Overall rating \n",
      "             Name      Wage  Overall\n",
      "35       Marcelo  285000.0       88\n",
      "49    Jordi Alba  250000.0       87\n",
      "64   Alex Sandro  160000.0       86\n",
      "85      D. Alaba  110000.0       85\n",
      "106  Filipe Luís   81000.0       85\n",
      "\t\n",
      "For RDM position top 5 players by Overall rating \n",
      "              Name      Wage  Overall\n",
      "45       P. Pogba  210000.0       87\n",
      "134  Illarramendi   51000.0       84\n",
      "198      I. Gueye  125000.0       83\n",
      "223   D. De Rossi   80000.0       83\n",
      "298     M. Parolo   59000.0       82\n",
      "\t\n",
      "For RW position top 5 players by Overall rating \n",
      "               Name      Wage  Overall\n",
      "56  Bernardo Silva  180000.0       86\n",
      "60     R. Sterling  195000.0       86\n",
      "79   Marco Asensio  215000.0       85\n",
      "93      A. Sánchez  215000.0       85\n",
      "84       R. Mahrez  205000.0       85\n",
      "\t\n",
      "For CM position top 5 players by Overall rating \n",
      "                     Name      Wage  Overall\n",
      "67                Thiago  130000.0       86\n",
      "78   S. Milinković-Savić   73000.0       85\n",
      "121             Jorginho  155000.0       84\n",
      "136          I. Gündoğan  175000.0       84\n",
      "161             N. Keïta  120000.0       83\n",
      "\t\n",
      "For RB position top 5 players by Overall rating \n",
      "               Name      Wage  Overall\n",
      "69     Azpilicueta  175000.0       86\n",
      "135      K. Walker  165000.0       84\n",
      "123       Carvajal  185000.0       84\n",
      "192  Sergi Roberto  170000.0       83\n",
      "216      L. Bender   82000.0       83\n",
      "\t\n",
      "For RAM position top 5 players by Overall rating \n",
      "                 Name      Wage  Overall\n",
      "129      J. Cuadrado  150000.0       84\n",
      "171        H. Ziyech   28000.0       83\n",
      "1705  Allan Bardinho   22000.0       75\n",
      "2242    Jacson Zonta   13000.0       74\n",
      "2322  Sebas Couteira   14000.0       74\n",
      "\t\n",
      "For CF position top 5 players by Overall rating \n",
      "              Name     Wage  Overall\n",
      "271  Luis Alberto  67000.0       82\n",
      "293   S. Giovinco  15000.0       82\n",
      "350      A. Milik  71000.0       81\n",
      "382     L. Stindl  43000.0       81\n",
      "407       Raffael  41000.0       81\n",
      "\t\n",
      "For RWB position top 5 players by Overall rating \n",
      "              Name     Wage  Overall\n",
      "450     M. Ginter  28000.0       80\n",
      "517    S. Coleman  97000.0       80\n",
      "465  P. Kadeřábek  39000.0       80\n",
      "652  D. Caligiuri  33000.0       79\n",
      "766  Pablo Maffeo  24000.0       78\n",
      "\t\n",
      "For LWB position top 5 players by Overall rating \n",
      "           Name     Wage  Overall\n",
      "474  N. Schulz  37000.0       80\n",
      "605  J. Hector  26000.0       79\n",
      "581    Granell  37000.0       79\n",
      "601      Jonny  43000.0       79\n",
      "787  J. Mojica  28000.0       78\n",
      "\t\n",
      "For nan position top 5 players by Overall rating \n",
      " Empty DataFrame\n",
      "Columns: [Name, Wage, Overall]\n",
      "Index: []\n",
      "\t\n"
     ]
    }
   ],
   "source": [
    "appended_data = []\n",
    "for i in position:\n",
    "    a=data[data['Position']==i].sort_values(by ='Overall',ascending=False)[['Name','Wage','Overall']].head()\n",
    "    print(\"For {} position top 5 players by Overall rating\".format(i),\"\\n\",a)\n",
    "    print(\"\\t\")\n",
    "    appended_data.append(a['Name'])\n",
    "appended_data = pd.concat(appended_data)"
   ]
  },
  {
   "cell_type": "markdown",
   "metadata": {},
   "source": [
    "#  a)\tAre there any players appearing in more than one Table. Please point out such players.\n"
   ]
  },
  {
   "cell_type": "code",
   "execution_count": 568,
   "metadata": {},
   "outputs": [
    {
     "name": "stdout",
     "output_type": "stream",
     "text": [
      "<class 'pandas.core.series.Series'>\n"
     ]
    },
    {
     "data": {
      "text/plain": [
       "Series([], Name: Name, dtype: object)"
      ]
     },
     "execution_count": 568,
     "metadata": {},
     "output_type": "execute_result"
    }
   ],
   "source": [
    "print(type(appended_data))\n",
    "appended_data[appended_data.duplicated()]"
   ]
  },
  {
   "cell_type": "markdown",
   "metadata": {},
   "source": [
    "# ANS- No there are not any players appearing in more than one table"
   ]
  },
  {
   "cell_type": "markdown",
   "metadata": {},
   "source": [
    "# b)\tWhat is the average wage one can expect to pay for the top 5 in every position?"
   ]
  },
  {
   "cell_type": "code",
   "execution_count": 569,
   "metadata": {},
   "outputs": [
    {
     "name": "stdout",
     "output_type": "stream",
     "text": [
      "The Average wage for RF position  148000.0\n",
      "\t\n",
      "The Average wage for ST position  294000.0\n",
      "\t\n",
      "The Average wage for LW position  261000.0\n",
      "\t\n",
      "The Average wage for GK position  192800.0\n",
      "\t\n",
      "The Average wage for RCM position  240800.0\n",
      "\t\n",
      "The Average wage for LF position  121200.0\n",
      "\t\n",
      "The Average wage for RS position  132200.0\n",
      "\t\n",
      "The Average wage for RCB position  231000.0\n",
      "\t\n",
      "The Average wage for LCM position  184400.0\n",
      "\t\n",
      "The Average wage for CB position  139600.0\n",
      "\t\n",
      "The Average wage for LDM position  126600.0\n",
      "\t\n",
      "The Average wage for CAM position  174000.0\n",
      "\t\n",
      "The Average wage for CDM position  217000.0\n",
      "\t\n",
      "The Average wage for LS position  130200.0\n",
      "\t\n",
      "The Average wage for LCB position  162000.0\n",
      "\t\n",
      "The Average wage for RM position  131400.0\n",
      "\t\n",
      "The Average wage for LAM position  81600.0\n",
      "\t\n",
      "The Average wage for LM position  164600.0\n",
      "\t\n",
      "The Average wage for LB position  177200.0\n",
      "\t\n",
      "The Average wage for RDM position  105000.0\n",
      "\t\n",
      "The Average wage for RW position  202000.0\n",
      "\t\n",
      "The Average wage for CM position  130600.0\n",
      "\t\n",
      "The Average wage for RB position  155400.0\n",
      "\t\n",
      "The Average wage for RAM position  45400.0\n",
      "\t\n",
      "The Average wage for CF position  47400.0\n",
      "\t\n",
      "The Average wage for RWB position  44200.0\n",
      "\t\n",
      "The Average wage for LWB position  34200.0\n",
      "\t\n",
      "The Average wage for nan position  nan\n",
      "\t\n"
     ]
    }
   ],
   "source": [
    "for i in position:\n",
    "    a=data[data['Position']==i].sort_values(by ='Overall',ascending=False).head()\n",
    "    print(\"The Average wage for {} position \".format(i),a['Wage'].mean())\n",
    "    print(\"\\t\")"
   ]
  },
  {
   "cell_type": "code",
   "execution_count": null,
   "metadata": {},
   "outputs": [],
   "source": []
  },
  {
   "cell_type": "code",
   "execution_count": null,
   "metadata": {},
   "outputs": [],
   "source": []
  },
  {
   "cell_type": "code",
   "execution_count": null,
   "metadata": {},
   "outputs": [],
   "source": []
  }
 ],
 "metadata": {
  "kernelspec": {
   "display_name": "Python 3",
   "language": "python",
   "name": "python3"
  },
  "language_info": {
   "codemirror_mode": {
    "name": "ipython",
    "version": 3
   },
   "file_extension": ".py",
   "mimetype": "text/x-python",
   "name": "python",
   "nbconvert_exporter": "python",
   "pygments_lexer": "ipython3",
   "version": "3.7.4"
  }
 },
 "nbformat": 4,
 "nbformat_minor": 2
}
